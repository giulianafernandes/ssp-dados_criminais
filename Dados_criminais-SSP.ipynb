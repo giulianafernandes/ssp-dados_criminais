{
 "cells": [
  {
   "cell_type": "markdown",
   "metadata": {},
   "source": [
    "## Carregando dados brutos"
   ]
  },
  {
   "cell_type": "code",
   "execution_count": 1,
   "metadata": {},
   "outputs": [
    {
     "ename": "NameError",
     "evalue": "name 'pd' is not defined",
     "output_type": "error",
     "traceback": [
      "\u001b[0;31m---------------------------------------------------------------------------\u001b[0m",
      "\u001b[0;31mNameError\u001b[0m                                 Traceback (most recent call last)",
      "Cell \u001b[0;32mIn[1], line 1\u001b[0m\n\u001b[0;32m----> 1\u001b[0m df_2023_01 \u001b[38;5;241m=\u001b[39m pd\u001b[38;5;241m.\u001b[39mread_excel(\u001b[38;5;124m\"\u001b[39m\u001b[38;5;124mdata/SPDadosCriminais_2023.xlsx\u001b[39m\u001b[38;5;124m\"\u001b[39m, sheet_name\u001b[38;5;241m=\u001b[39m\u001b[38;5;124m'\u001b[39m\u001b[38;5;124mJAN_JUN_2023\u001b[39m\u001b[38;5;124m'\u001b[39m)\n\u001b[1;32m      2\u001b[0m df_2023_02 \u001b[38;5;241m=\u001b[39m pd\u001b[38;5;241m.\u001b[39mread_excel(\u001b[38;5;124m\"\u001b[39m\u001b[38;5;124mdata/SPDadosCriminais_2023.xlsx\u001b[39m\u001b[38;5;124m\"\u001b[39m, sheet_name\u001b[38;5;241m=\u001b[39m\u001b[38;5;124m'\u001b[39m\u001b[38;5;124mJUL_DEZ_2023\u001b[39m\u001b[38;5;124m'\u001b[39m)\n\u001b[1;32m      3\u001b[0m df_2024_01 \u001b[38;5;241m=\u001b[39m pd\u001b[38;5;241m.\u001b[39mread_excel(\u001b[38;5;124m\"\u001b[39m\u001b[38;5;124mdata/SPDadosCriminais_2024.xlsx\u001b[39m\u001b[38;5;124m\"\u001b[39m, sheet_name\u001b[38;5;241m=\u001b[39m\u001b[38;5;124m'\u001b[39m\u001b[38;5;124mJAN-JUN_2024\u001b[39m\u001b[38;5;124m'\u001b[39m)\n",
      "\u001b[0;31mNameError\u001b[0m: name 'pd' is not defined"
     ]
    }
   ],
   "source": [
    "df_2023_01 = pd.read_excel(\"data/SPDadosCriminais_2023.xlsx\", sheet_name='JAN_JUN_2023')\n",
    "df_2023_02 = pd.read_excel(\"data/SPDadosCriminais_2023.xlsx\", sheet_name='JUL_DEZ_2023')\n",
    "df_2024_01 = pd.read_excel(\"data/SPDadosCriminais_2024.xlsx\", sheet_name='JAN-JUN_2024')\n",
    "df_2024_02 = pd.read_excel(\"data/SPDadosCriminais_2024.xlsx\", sheet_name='JUL-DEZ_2024')"
   ]
  },
  {
   "cell_type": "code",
   "execution_count": null,
   "metadata": {},
   "outputs": [],
   "source": [
    "df_2024_01.rename(columns={\n",
    "                            'NOME_MUNICIPIO': 'CIDADE', ### \n",
    "                            'DATA_REGISTRO': 'DATA_COMUNICACAO', ###\n",
    "                            'DESCR_SUBTIPOLOCAL': 'DESCR_TIPOLOCAL', ###\n",
    "                             }, inplace=True)\n",
    "\n",
    "df_2024_02.rename(columns={\n",
    "                            'NOME_MUNICIPIO': 'CIDADE', ### \n",
    "                            'DATA_REGISTRO': 'DATA_COMUNICACAO', ###\n",
    "                            'DESCR_SUBTIPOLOCAL': 'DESCR_TIPOLOCAL', ###\n",
    "                             }, inplace=True)"
   ]
  },
  {
   "cell_type": "code",
   "execution_count": null,
   "metadata": {},
   "outputs": [
    {
     "data": {
      "text/plain": [
       "(599423, 25)"
      ]
     },
     "execution_count": 4,
     "metadata": {},
     "output_type": "execute_result"
    }
   ],
   "source": [
    "df_2024_02.shape"
   ]
  },
  {
   "cell_type": "code",
   "execution_count": null,
   "metadata": {},
   "outputs": [
    {
     "data": {
      "text/plain": [
       "Index(['NOME_DEPARTAMENTO', 'NOME_SECCIONAL', 'NOME_DELEGACIA', 'CIDADE',\n",
       "       'NUM_BO', 'ANO_BO', 'DATA_COMUNICACAO', 'DATA_OCORRENCIA_BO',\n",
       "       'HORA_OCORRENCIA_BO', 'DESC_PERIODO', 'DESCR_TIPOLOCAL', 'BAIRRO',\n",
       "       'LOGRADOURO', 'NUMERO_LOGRADOURO', 'LATITUDE', 'LONGITUDE',\n",
       "       'NOME_DELEGACIA_CIRCUNSCRIÇÃO', 'NOME_DEPARTAMENTO_CIRCUNSCRIÇÃO',\n",
       "       'NOME_SECCIONAL_CIRCUNSCRIÇÃO', 'NOME_MUNICIPIO_CIRCUNSCRIÇÃO',\n",
       "       'RUBRICA', 'DESCR_CONDUTA', 'NATUREZA_APURADA', 'MES_ESTATISTICA',\n",
       "       'ANO_ESTATISTICA'],\n",
       "      dtype='object')"
      ]
     },
     "execution_count": 5,
     "metadata": {},
     "output_type": "execute_result"
    }
   ],
   "source": [
    "df_2023_01.columns"
   ]
  },
  {
   "cell_type": "code",
   "execution_count": null,
   "metadata": {},
   "outputs": [
    {
     "data": {
      "text/plain": [
       "Index(['NOME_DEPARTAMENTO', 'NOME_SECCIONAL', 'NOME_DELEGACIA', 'CIDADE',\n",
       "       'ANO_BO', 'NUM_BO', 'DATA_COMUNICACAO', 'DATA_OCORRENCIA_BO',\n",
       "       'HORA_OCORRENCIA_BO', 'DESC_PERIODO', 'DESCR_TIPOLOCAL', 'BAIRRO',\n",
       "       'LOGRADOURO', 'NUMERO_LOGRADOURO', 'LATITUDE', 'LONGITUDE',\n",
       "       'NOME_DELEGACIA_CIRCUNSCRIÇÃO', 'NOME_DEPARTAMENTO_CIRCUNSCRIÇÃO',\n",
       "       'NOME_SECCIONAL_CIRCUNSCRIÇÃO', 'NOME_MUNICIPIO_CIRCUNSCRIÇÃO',\n",
       "       'RUBRICA', 'DESCR_CONDUTA', 'NATUREZA_APURADA', 'MES_ESTATISTICA',\n",
       "       'ANO_ESTATISTICA'],\n",
       "      dtype='object')"
      ]
     },
     "execution_count": 6,
     "metadata": {},
     "output_type": "execute_result"
    }
   ],
   "source": [
    "df_2024_01.columns"
   ]
  },
  {
   "cell_type": "code",
   "execution_count": null,
   "metadata": {},
   "outputs": [],
   "source": [
    "dataframes = [df_2023_01, df_2023_02, df_2024_01, df_2024_02]\n",
    "dados_criminais = pd.concat(dataframes)"
   ]
  },
  {
   "cell_type": "code",
   "execution_count": null,
   "metadata": {},
   "outputs": [
    {
     "data": {
      "text/plain": [
       "(2433725, 25)"
      ]
     },
     "execution_count": 8,
     "metadata": {},
     "output_type": "execute_result"
    }
   ],
   "source": [
    "dados_criminais.shape"
   ]
  },
  {
   "cell_type": "code",
   "execution_count": null,
   "metadata": {},
   "outputs": [],
   "source": [
    "#descarregando o csv para facilitar\n",
    "dados_criminais.to_csv(\"data/dados_criminais_merge.csv\", index=False)"
   ]
  },
  {
   "cell_type": "markdown",
   "metadata": {},
   "source": [
    "# Limpeza e organização da base"
   ]
  },
  {
   "cell_type": "code",
   "execution_count": 2,
   "metadata": {},
   "outputs": [],
   "source": [
    "import pandas as pd\n",
    "import numpy as np \n",
    "\n",
    "pd.set_option('display.max_columns', None)\n",
    "pd.set_option('display.max_rows', None)\n",
    "\n",
    "import warnings\n",
    "warnings.filterwarnings(\"ignore\")"
   ]
  },
  {
   "cell_type": "code",
   "execution_count": 3,
   "metadata": {},
   "outputs": [],
   "source": [
    "dados = pd.read_csv('data/dados_criminais_merge.csv')"
   ]
  },
  {
   "cell_type": "code",
   "execution_count": 4,
   "metadata": {},
   "outputs": [
    {
     "name": "stdout",
     "output_type": "stream",
     "text": [
      "<class 'pandas.core.frame.DataFrame'>\n",
      "RangeIndex: 2433725 entries, 0 to 2433724\n",
      "Data columns (total 25 columns):\n",
      " #   Column                           Dtype  \n",
      "---  ------                           -----  \n",
      " 0   NOME_DEPARTAMENTO                object \n",
      " 1   NOME_SECCIONAL                   object \n",
      " 2   NOME_DELEGACIA                   object \n",
      " 3   CIDADE                           object \n",
      " 4   NUM_BO                           object \n",
      " 5   ANO_BO                           int64  \n",
      " 6   DATA_COMUNICACAO                 object \n",
      " 7   DATA_OCORRENCIA_BO               object \n",
      " 8   HORA_OCORRENCIA_BO               object \n",
      " 9   DESC_PERIODO                     object \n",
      " 10  DESCR_TIPOLOCAL                  object \n",
      " 11  BAIRRO                           object \n",
      " 12  LOGRADOURO                       object \n",
      " 13  NUMERO_LOGRADOURO                object \n",
      " 14  LATITUDE                         object \n",
      " 15  LONGITUDE                        float64\n",
      " 16  NOME_DELEGACIA_CIRCUNSCRIÇÃO     object \n",
      " 17  NOME_DEPARTAMENTO_CIRCUNSCRIÇÃO  object \n",
      " 18  NOME_SECCIONAL_CIRCUNSCRIÇÃO     object \n",
      " 19  NOME_MUNICIPIO_CIRCUNSCRIÇÃO     object \n",
      " 20  RUBRICA                          object \n",
      " 21  DESCR_CONDUTA                    object \n",
      " 22  NATUREZA_APURADA                 object \n",
      " 23  MES_ESTATISTICA                  int64  \n",
      " 24  ANO_ESTATISTICA                  int64  \n",
      "dtypes: float64(1), int64(3), object(21)\n",
      "memory usage: 464.2+ MB\n"
     ]
    }
   ],
   "source": [
    "dados.info()"
   ]
  },
  {
   "cell_type": "code",
   "execution_count": 5,
   "metadata": {},
   "outputs": [
    {
     "data": {
      "text/html": [
       "<div>\n",
       "<style scoped>\n",
       "    .dataframe tbody tr th:only-of-type {\n",
       "        vertical-align: middle;\n",
       "    }\n",
       "\n",
       "    .dataframe tbody tr th {\n",
       "        vertical-align: top;\n",
       "    }\n",
       "\n",
       "    .dataframe thead th {\n",
       "        text-align: right;\n",
       "    }\n",
       "</style>\n",
       "<table border=\"1\" class=\"dataframe\">\n",
       "  <thead>\n",
       "    <tr style=\"text-align: right;\">\n",
       "      <th></th>\n",
       "      <th>NOME_DEPARTAMENTO</th>\n",
       "      <th>NOME_SECCIONAL</th>\n",
       "      <th>NOME_DELEGACIA</th>\n",
       "      <th>CIDADE</th>\n",
       "      <th>NUM_BO</th>\n",
       "      <th>ANO_BO</th>\n",
       "      <th>DATA_COMUNICACAO</th>\n",
       "      <th>DATA_OCORRENCIA_BO</th>\n",
       "      <th>HORA_OCORRENCIA_BO</th>\n",
       "      <th>DESC_PERIODO</th>\n",
       "      <th>DESCR_TIPOLOCAL</th>\n",
       "      <th>BAIRRO</th>\n",
       "      <th>LOGRADOURO</th>\n",
       "      <th>NUMERO_LOGRADOURO</th>\n",
       "      <th>LATITUDE</th>\n",
       "      <th>LONGITUDE</th>\n",
       "      <th>NOME_DELEGACIA_CIRCUNSCRIÇÃO</th>\n",
       "      <th>NOME_DEPARTAMENTO_CIRCUNSCRIÇÃO</th>\n",
       "      <th>NOME_SECCIONAL_CIRCUNSCRIÇÃO</th>\n",
       "      <th>NOME_MUNICIPIO_CIRCUNSCRIÇÃO</th>\n",
       "      <th>RUBRICA</th>\n",
       "      <th>DESCR_CONDUTA</th>\n",
       "      <th>NATUREZA_APURADA</th>\n",
       "      <th>MES_ESTATISTICA</th>\n",
       "      <th>ANO_ESTATISTICA</th>\n",
       "    </tr>\n",
       "  </thead>\n",
       "  <tbody>\n",
       "    <tr>\n",
       "      <th>0</th>\n",
       "      <td>DECAP</td>\n",
       "      <td>DEL.SEC.1º CENTRO</td>\n",
       "      <td>01ª DDM CENTRO</td>\n",
       "      <td>S.PAULO</td>\n",
       "      <td>AP5096</td>\n",
       "      <td>2023</td>\n",
       "      <td>2023-01-14</td>\n",
       "      <td>2023-01-12</td>\n",
       "      <td>21:00:19</td>\n",
       "      <td>NaN</td>\n",
       "      <td>Praça</td>\n",
       "      <td>SE</td>\n",
       "      <td>VEDAÇÃO DA DIVULGAÇÃO DOS DADOS RELATIVOS</td>\n",
       "      <td>0</td>\n",
       "      <td>0.0</td>\n",
       "      <td>0.0</td>\n",
       "      <td>01º D.P. SE</td>\n",
       "      <td>DECAP</td>\n",
       "      <td>DEL.SEC.1º CENTRO</td>\n",
       "      <td>S.PAULO</td>\n",
       "      <td>Art. 213 - Estupro</td>\n",
       "      <td>NaN</td>\n",
       "      <td>ESTUPRO</td>\n",
       "      <td>1</td>\n",
       "      <td>2023</td>\n",
       "    </tr>\n",
       "    <tr>\n",
       "      <th>1</th>\n",
       "      <td>DECAP</td>\n",
       "      <td>DEL.SEC.1º CENTRO</td>\n",
       "      <td>01ª DDM CENTRO</td>\n",
       "      <td>S.PAULO</td>\n",
       "      <td>BD2233</td>\n",
       "      <td>2023</td>\n",
       "      <td>2023-01-25</td>\n",
       "      <td>2023-01-24</td>\n",
       "      <td>20:40:00</td>\n",
       "      <td>NaN</td>\n",
       "      <td>Apartamento</td>\n",
       "      <td>LUZ</td>\n",
       "      <td>VEDAÇÃO DA DIVULGAÇÃO DOS DADOS RELATIVOS</td>\n",
       "      <td>0</td>\n",
       "      <td>0.0</td>\n",
       "      <td>0.0</td>\n",
       "      <td>01º D.P. SE</td>\n",
       "      <td>DECAP</td>\n",
       "      <td>DEL.SEC.1º CENTRO</td>\n",
       "      <td>S.PAULO</td>\n",
       "      <td>Art. 213 - Estupro</td>\n",
       "      <td>NaN</td>\n",
       "      <td>ESTUPRO</td>\n",
       "      <td>1</td>\n",
       "      <td>2023</td>\n",
       "    </tr>\n",
       "    <tr>\n",
       "      <th>2</th>\n",
       "      <td>DIPOL - DEPTO DE INTELIGENCIA</td>\n",
       "      <td>DELEGACIA ELETRONICA</td>\n",
       "      <td>DELEGACIA ELETRONICA</td>\n",
       "      <td>S.PAULO</td>\n",
       "      <td>AA0063</td>\n",
       "      <td>2023</td>\n",
       "      <td>2022-12-31</td>\n",
       "      <td>2022-12-30</td>\n",
       "      <td>NaN</td>\n",
       "      <td>A noite</td>\n",
       "      <td>Via Pública</td>\n",
       "      <td>SÉ</td>\n",
       "      <td>PRAÇA DA SÉ</td>\n",
       "      <td>0</td>\n",
       "      <td>NaN</td>\n",
       "      <td>NaN</td>\n",
       "      <td>01º D.P. SE</td>\n",
       "      <td>DECAP</td>\n",
       "      <td>DEL.SEC.1º CENTRO</td>\n",
       "      <td>S.PAULO</td>\n",
       "      <td>Furto (art. 155)</td>\n",
       "      <td>Outros</td>\n",
       "      <td>FURTO - OUTROS</td>\n",
       "      <td>1</td>\n",
       "      <td>2023</td>\n",
       "    </tr>\n",
       "  </tbody>\n",
       "</table>\n",
       "</div>"
      ],
      "text/plain": [
       "               NOME_DEPARTAMENTO        NOME_SECCIONAL        NOME_DELEGACIA  \\\n",
       "0                          DECAP     DEL.SEC.1º CENTRO        01ª DDM CENTRO   \n",
       "1                          DECAP     DEL.SEC.1º CENTRO        01ª DDM CENTRO   \n",
       "2  DIPOL - DEPTO DE INTELIGENCIA  DELEGACIA ELETRONICA  DELEGACIA ELETRONICA   \n",
       "\n",
       "    CIDADE  NUM_BO  ANO_BO DATA_COMUNICACAO DATA_OCORRENCIA_BO  \\\n",
       "0  S.PAULO  AP5096    2023       2023-01-14         2023-01-12   \n",
       "1  S.PAULO  BD2233    2023       2023-01-25         2023-01-24   \n",
       "2  S.PAULO  AA0063    2023       2022-12-31         2022-12-30   \n",
       "\n",
       "  HORA_OCORRENCIA_BO DESC_PERIODO DESCR_TIPOLOCAL BAIRRO  \\\n",
       "0           21:00:19          NaN           Praça     SE   \n",
       "1           20:40:00          NaN     Apartamento    LUZ   \n",
       "2                NaN      A noite     Via Pública     SÉ   \n",
       "\n",
       "                                  LOGRADOURO NUMERO_LOGRADOURO LATITUDE  \\\n",
       "0  VEDAÇÃO DA DIVULGAÇÃO DOS DADOS RELATIVOS                 0      0.0   \n",
       "1  VEDAÇÃO DA DIVULGAÇÃO DOS DADOS RELATIVOS                 0      0.0   \n",
       "2                                PRAÇA DA SÉ                 0      NaN   \n",
       "\n",
       "   LONGITUDE NOME_DELEGACIA_CIRCUNSCRIÇÃO NOME_DEPARTAMENTO_CIRCUNSCRIÇÃO  \\\n",
       "0        0.0                  01º D.P. SE                           DECAP   \n",
       "1        0.0                  01º D.P. SE                           DECAP   \n",
       "2        NaN                  01º D.P. SE                           DECAP   \n",
       "\n",
       "  NOME_SECCIONAL_CIRCUNSCRIÇÃO NOME_MUNICIPIO_CIRCUNSCRIÇÃO  \\\n",
       "0            DEL.SEC.1º CENTRO                      S.PAULO   \n",
       "1            DEL.SEC.1º CENTRO                      S.PAULO   \n",
       "2            DEL.SEC.1º CENTRO                      S.PAULO   \n",
       "\n",
       "              RUBRICA DESCR_CONDUTA NATUREZA_APURADA  MES_ESTATISTICA  \\\n",
       "0  Art. 213 - Estupro           NaN          ESTUPRO                1   \n",
       "1  Art. 213 - Estupro           NaN          ESTUPRO                1   \n",
       "2    Furto (art. 155)        Outros   FURTO - OUTROS                1   \n",
       "\n",
       "   ANO_ESTATISTICA  \n",
       "0             2023  \n",
       "1             2023  \n",
       "2             2023  "
      ]
     },
     "execution_count": 5,
     "metadata": {},
     "output_type": "execute_result"
    }
   ],
   "source": [
    "dados.head(3)"
   ]
  },
  {
   "cell_type": "markdown",
   "metadata": {},
   "source": [
    "### Filtrando dados apenas da Cidade de São Paulo"
   ]
  },
  {
   "cell_type": "code",
   "execution_count": 6,
   "metadata": {},
   "outputs": [],
   "source": [
    "dados = dados.loc[dados['CIDADE'] == 'S.PAULO']\n",
    "dados['CIDADE'] = dados['CIDADE'].str.replace('S.PAULO', 'São Paulo')"
   ]
  },
  {
   "cell_type": "code",
   "execution_count": 7,
   "metadata": {},
   "outputs": [
    {
     "data": {
      "text/plain": [
       "array(['São Paulo'], dtype=object)"
      ]
     },
     "execution_count": 7,
     "metadata": {},
     "output_type": "execute_result"
    }
   ],
   "source": [
    "dados['CIDADE'].unique()"
   ]
  },
  {
   "cell_type": "markdown",
   "metadata": {},
   "source": [
    "### Transformando os dtypes - Data, Hora, Criando novas colunas qualitativas"
   ]
  },
  {
   "cell_type": "code",
   "execution_count": 8,
   "metadata": {},
   "outputs": [],
   "source": [
    "dados['NUMERO_LOGRADOURO'] = pd.to_numeric(dados['NUMERO_LOGRADOURO'],errors='coerce')\n",
    "dados['NUMERO_LOGRADOURO'] = dados['NUMERO_LOGRADOURO'].fillna(0).astype(int)"
   ]
  },
  {
   "cell_type": "code",
   "execution_count": 9,
   "metadata": {},
   "outputs": [],
   "source": [
    "dados['LATITUDE'] = pd.to_numeric(dados['LATITUDE'],errors='coerce')"
   ]
  },
  {
   "cell_type": "code",
   "execution_count": 10,
   "metadata": {},
   "outputs": [],
   "source": [
    "dados['DATA_COMUNICACAO'] = pd.to_datetime(dados['DATA_COMUNICACAO'],\n",
    "                                          errors='coerce', format = '%Y-%m-%d')\n",
    "dados['DATA_OCORRENCIA_BO'] = pd.to_datetime(dados['DATA_OCORRENCIA_BO'],\n",
    "                                          errors='coerce', format = '%Y-%m-%d')"
   ]
  },
  {
   "cell_type": "code",
   "execution_count": 11,
   "metadata": {},
   "outputs": [
    {
     "name": "stdout",
     "output_type": "stream",
     "text": [
      "<class 'pandas.core.frame.DataFrame'>\n",
      "Index: 978411 entries, 0 to 2433633\n",
      "Data columns (total 2 columns):\n",
      " #   Column              Non-Null Count   Dtype         \n",
      "---  ------              --------------   -----         \n",
      " 0   DATA_COMUNICACAO    978411 non-null  datetime64[ns]\n",
      " 1   DATA_OCORRENCIA_BO  977884 non-null  datetime64[ns]\n",
      "dtypes: datetime64[ns](2)\n",
      "memory usage: 22.4 MB\n"
     ]
    }
   ],
   "source": [
    "dados[['DATA_COMUNICACAO', 'DATA_OCORRENCIA_BO']].info()"
   ]
  },
  {
   "cell_type": "code",
   "execution_count": 12,
   "metadata": {},
   "outputs": [],
   "source": [
    "dados['DIA_DA_SEMANA'] = dados['DATA_OCORRENCIA_BO'].dt.day_name()\n",
    "dados['MÊS'] = dados['DATA_OCORRENCIA_BO'].dt.month_name()"
   ]
  },
  {
   "cell_type": "code",
   "execution_count": 13,
   "metadata": {},
   "outputs": [],
   "source": [
    "dias_semana = {\n",
    "    \"Monday\": \"Segunda-feira\",\n",
    "    \"Tuesday\": \"Terça-feira\",\n",
    "    \"Wednesday\": \"Quarta-feira\",\n",
    "    \"Thursday\": \"Quinta-feira\",\n",
    "    \"Friday\": \"Sexta-feira\",\n",
    "    \"Saturday\": \"Sábado\",\n",
    "    \"Sunday\": \"Domingo\"\n",
    "}\n",
    "\n",
    "dados['DIA_DA_SEMANA'] = dados['DIA_DA_SEMANA'].map(dias_semana)"
   ]
  },
  {
   "cell_type": "code",
   "execution_count": 14,
   "metadata": {},
   "outputs": [],
   "source": [
    "mes = {\n",
    "       'January':'Janeiro',\n",
    "       'December':'Dezembro', \n",
    "       'October':'Outubro', \n",
    "       'November':'Novembro', \n",
    "       'September':'Setembro',\n",
    "       'August':'Agosto', \n",
    "       'May':'Maio', \n",
    "       'June':'Junho', \n",
    "       'July':'Julho', \n",
    "       'April':'Abril', \n",
    "       'March':'Março', \n",
    "       'February':'Fevereiro'\n",
    "}\n",
    "\n",
    "dados['MÊS'] = dados['MÊS'].map(mes)"
   ]
  },
  {
   "cell_type": "code",
   "execution_count": 15,
   "metadata": {},
   "outputs": [
    {
     "data": {
      "text/html": [
       "<div>\n",
       "<style scoped>\n",
       "    .dataframe tbody tr th:only-of-type {\n",
       "        vertical-align: middle;\n",
       "    }\n",
       "\n",
       "    .dataframe tbody tr th {\n",
       "        vertical-align: top;\n",
       "    }\n",
       "\n",
       "    .dataframe thead th {\n",
       "        text-align: right;\n",
       "    }\n",
       "</style>\n",
       "<table border=\"1\" class=\"dataframe\">\n",
       "  <thead>\n",
       "    <tr style=\"text-align: right;\">\n",
       "      <th></th>\n",
       "      <th>NOME_DEPARTAMENTO</th>\n",
       "      <th>NOME_SECCIONAL</th>\n",
       "      <th>NOME_DELEGACIA</th>\n",
       "      <th>CIDADE</th>\n",
       "      <th>NUM_BO</th>\n",
       "      <th>ANO_BO</th>\n",
       "      <th>DATA_COMUNICACAO</th>\n",
       "      <th>DATA_OCORRENCIA_BO</th>\n",
       "      <th>HORA_OCORRENCIA_BO</th>\n",
       "      <th>DESC_PERIODO</th>\n",
       "      <th>DESCR_TIPOLOCAL</th>\n",
       "      <th>BAIRRO</th>\n",
       "      <th>LOGRADOURO</th>\n",
       "      <th>NUMERO_LOGRADOURO</th>\n",
       "      <th>LATITUDE</th>\n",
       "      <th>LONGITUDE</th>\n",
       "      <th>NOME_DELEGACIA_CIRCUNSCRIÇÃO</th>\n",
       "      <th>NOME_DEPARTAMENTO_CIRCUNSCRIÇÃO</th>\n",
       "      <th>NOME_SECCIONAL_CIRCUNSCRIÇÃO</th>\n",
       "      <th>NOME_MUNICIPIO_CIRCUNSCRIÇÃO</th>\n",
       "      <th>RUBRICA</th>\n",
       "      <th>DESCR_CONDUTA</th>\n",
       "      <th>NATUREZA_APURADA</th>\n",
       "      <th>MES_ESTATISTICA</th>\n",
       "      <th>ANO_ESTATISTICA</th>\n",
       "      <th>DIA_DA_SEMANA</th>\n",
       "      <th>MÊS</th>\n",
       "    </tr>\n",
       "  </thead>\n",
       "  <tbody>\n",
       "    <tr>\n",
       "      <th>0</th>\n",
       "      <td>DECAP</td>\n",
       "      <td>DEL.SEC.1º CENTRO</td>\n",
       "      <td>01ª DDM CENTRO</td>\n",
       "      <td>São Paulo</td>\n",
       "      <td>AP5096</td>\n",
       "      <td>2023</td>\n",
       "      <td>2023-01-14</td>\n",
       "      <td>2023-01-12</td>\n",
       "      <td>21:00:19</td>\n",
       "      <td>NaN</td>\n",
       "      <td>Praça</td>\n",
       "      <td>SE</td>\n",
       "      <td>VEDAÇÃO DA DIVULGAÇÃO DOS DADOS RELATIVOS</td>\n",
       "      <td>0</td>\n",
       "      <td>0.0</td>\n",
       "      <td>0.0</td>\n",
       "      <td>01º D.P. SE</td>\n",
       "      <td>DECAP</td>\n",
       "      <td>DEL.SEC.1º CENTRO</td>\n",
       "      <td>S.PAULO</td>\n",
       "      <td>Art. 213 - Estupro</td>\n",
       "      <td>NaN</td>\n",
       "      <td>ESTUPRO</td>\n",
       "      <td>1</td>\n",
       "      <td>2023</td>\n",
       "      <td>Quinta-feira</td>\n",
       "      <td>Janeiro</td>\n",
       "    </tr>\n",
       "    <tr>\n",
       "      <th>1</th>\n",
       "      <td>DECAP</td>\n",
       "      <td>DEL.SEC.1º CENTRO</td>\n",
       "      <td>01ª DDM CENTRO</td>\n",
       "      <td>São Paulo</td>\n",
       "      <td>BD2233</td>\n",
       "      <td>2023</td>\n",
       "      <td>2023-01-25</td>\n",
       "      <td>2023-01-24</td>\n",
       "      <td>20:40:00</td>\n",
       "      <td>NaN</td>\n",
       "      <td>Apartamento</td>\n",
       "      <td>LUZ</td>\n",
       "      <td>VEDAÇÃO DA DIVULGAÇÃO DOS DADOS RELATIVOS</td>\n",
       "      <td>0</td>\n",
       "      <td>0.0</td>\n",
       "      <td>0.0</td>\n",
       "      <td>01º D.P. SE</td>\n",
       "      <td>DECAP</td>\n",
       "      <td>DEL.SEC.1º CENTRO</td>\n",
       "      <td>S.PAULO</td>\n",
       "      <td>Art. 213 - Estupro</td>\n",
       "      <td>NaN</td>\n",
       "      <td>ESTUPRO</td>\n",
       "      <td>1</td>\n",
       "      <td>2023</td>\n",
       "      <td>Terça-feira</td>\n",
       "      <td>Janeiro</td>\n",
       "    </tr>\n",
       "    <tr>\n",
       "      <th>2</th>\n",
       "      <td>DIPOL - DEPTO DE INTELIGENCIA</td>\n",
       "      <td>DELEGACIA ELETRONICA</td>\n",
       "      <td>DELEGACIA ELETRONICA</td>\n",
       "      <td>São Paulo</td>\n",
       "      <td>AA0063</td>\n",
       "      <td>2023</td>\n",
       "      <td>2022-12-31</td>\n",
       "      <td>2022-12-30</td>\n",
       "      <td>NaN</td>\n",
       "      <td>A noite</td>\n",
       "      <td>Via Pública</td>\n",
       "      <td>SÉ</td>\n",
       "      <td>PRAÇA DA SÉ</td>\n",
       "      <td>0</td>\n",
       "      <td>NaN</td>\n",
       "      <td>NaN</td>\n",
       "      <td>01º D.P. SE</td>\n",
       "      <td>DECAP</td>\n",
       "      <td>DEL.SEC.1º CENTRO</td>\n",
       "      <td>S.PAULO</td>\n",
       "      <td>Furto (art. 155)</td>\n",
       "      <td>Outros</td>\n",
       "      <td>FURTO - OUTROS</td>\n",
       "      <td>1</td>\n",
       "      <td>2023</td>\n",
       "      <td>Sexta-feira</td>\n",
       "      <td>Dezembro</td>\n",
       "    </tr>\n",
       "  </tbody>\n",
       "</table>\n",
       "</div>"
      ],
      "text/plain": [
       "               NOME_DEPARTAMENTO        NOME_SECCIONAL        NOME_DELEGACIA  \\\n",
       "0                          DECAP     DEL.SEC.1º CENTRO        01ª DDM CENTRO   \n",
       "1                          DECAP     DEL.SEC.1º CENTRO        01ª DDM CENTRO   \n",
       "2  DIPOL - DEPTO DE INTELIGENCIA  DELEGACIA ELETRONICA  DELEGACIA ELETRONICA   \n",
       "\n",
       "      CIDADE  NUM_BO  ANO_BO DATA_COMUNICACAO DATA_OCORRENCIA_BO  \\\n",
       "0  São Paulo  AP5096    2023       2023-01-14         2023-01-12   \n",
       "1  São Paulo  BD2233    2023       2023-01-25         2023-01-24   \n",
       "2  São Paulo  AA0063    2023       2022-12-31         2022-12-30   \n",
       "\n",
       "  HORA_OCORRENCIA_BO DESC_PERIODO DESCR_TIPOLOCAL BAIRRO  \\\n",
       "0           21:00:19          NaN           Praça     SE   \n",
       "1           20:40:00          NaN     Apartamento    LUZ   \n",
       "2                NaN      A noite     Via Pública     SÉ   \n",
       "\n",
       "                                  LOGRADOURO  NUMERO_LOGRADOURO  LATITUDE  \\\n",
       "0  VEDAÇÃO DA DIVULGAÇÃO DOS DADOS RELATIVOS                  0       0.0   \n",
       "1  VEDAÇÃO DA DIVULGAÇÃO DOS DADOS RELATIVOS                  0       0.0   \n",
       "2                                PRAÇA DA SÉ                  0       NaN   \n",
       "\n",
       "   LONGITUDE NOME_DELEGACIA_CIRCUNSCRIÇÃO NOME_DEPARTAMENTO_CIRCUNSCRIÇÃO  \\\n",
       "0        0.0                  01º D.P. SE                           DECAP   \n",
       "1        0.0                  01º D.P. SE                           DECAP   \n",
       "2        NaN                  01º D.P. SE                           DECAP   \n",
       "\n",
       "  NOME_SECCIONAL_CIRCUNSCRIÇÃO NOME_MUNICIPIO_CIRCUNSCRIÇÃO  \\\n",
       "0            DEL.SEC.1º CENTRO                      S.PAULO   \n",
       "1            DEL.SEC.1º CENTRO                      S.PAULO   \n",
       "2            DEL.SEC.1º CENTRO                      S.PAULO   \n",
       "\n",
       "              RUBRICA DESCR_CONDUTA NATUREZA_APURADA  MES_ESTATISTICA  \\\n",
       "0  Art. 213 - Estupro           NaN          ESTUPRO                1   \n",
       "1  Art. 213 - Estupro           NaN          ESTUPRO                1   \n",
       "2    Furto (art. 155)        Outros   FURTO - OUTROS                1   \n",
       "\n",
       "   ANO_ESTATISTICA DIA_DA_SEMANA       MÊS  \n",
       "0             2023  Quinta-feira   Janeiro  \n",
       "1             2023   Terça-feira   Janeiro  \n",
       "2             2023   Sexta-feira  Dezembro  "
      ]
     },
     "execution_count": 15,
     "metadata": {},
     "output_type": "execute_result"
    }
   ],
   "source": [
    "dados.head(3)"
   ]
  },
  {
   "cell_type": "code",
   "execution_count": 16,
   "metadata": {},
   "outputs": [
    {
     "data": {
      "text/plain": [
       "array([nan, 'A noite', 'Pela manhã', 'A tarde', 'De madrugada',\n",
       "       'Em hora incerta', 'PELA MANHÃ', 'EM HORA INCERTA'], dtype=object)"
      ]
     },
     "execution_count": 16,
     "metadata": {},
     "output_type": "execute_result"
    }
   ],
   "source": [
    "dados['DESC_PERIODO'].unique()"
   ]
  },
  {
   "cell_type": "code",
   "execution_count": 17,
   "metadata": {},
   "outputs": [],
   "source": [
    "dados['DESC_PERIODO'] = dados['DESC_PERIODO'].str.strip()\n",
    "dados['DESC_PERIODO'] = dados['DESC_PERIODO'].str.capitalize()"
   ]
  },
  {
   "cell_type": "code",
   "execution_count": 18,
   "metadata": {},
   "outputs": [
    {
     "data": {
      "text/plain": [
       "array([nan, 'A noite', 'Pela manhã', 'A tarde', 'De madrugada',\n",
       "       'Em hora incerta'], dtype=object)"
      ]
     },
     "execution_count": 18,
     "metadata": {},
     "output_type": "execute_result"
    }
   ],
   "source": [
    "dados['DESC_PERIODO'].unique()"
   ]
  },
  {
   "cell_type": "code",
   "execution_count": 19,
   "metadata": {},
   "outputs": [
    {
     "data": {
      "text/plain": [
       "647002"
      ]
     },
     "execution_count": 19,
     "metadata": {},
     "output_type": "execute_result"
    }
   ],
   "source": [
    "dados['DESC_PERIODO'].isna().sum()"
   ]
  },
  {
   "cell_type": "markdown",
   "metadata": {},
   "source": [
    "A descrição do período da ocorrência é algo muito importante para a análise mas temos 647002 dados nulos nessa coluna.  \n",
    "Para melhorar a contagem de nulos podemos extrair esses valores da coluna de Hora da Ocorrência. "
   ]
  },
  {
   "cell_type": "code",
   "execution_count": 20,
   "metadata": {},
   "outputs": [],
   "source": [
    "# transformando a coluna em datetime\n",
    "dados['HORA_OCORRENCIA_BO'] = pd.to_datetime(dados['HORA_OCORRENCIA_BO'],\n",
    "                                             format='%H:%M:%S', errors='coerce')\n",
    "\n",
    "# extraindo apenas a hora da ocorrência\n",
    "dados['HORA_OCORRENCIA_BO'] = dados['HORA_OCORRENCIA_BO'].dt.hour"
   ]
  },
  {
   "cell_type": "code",
   "execution_count": 21,
   "metadata": {},
   "outputs": [],
   "source": [
    "# função simples para a atribuição do períoco da ocorrência\n",
    "\n",
    "def descricao_periodo(hour):\n",
    "    if 0 <= hour < 6:\n",
    "        return 'De madrugada'\n",
    "    elif 6 <= hour < 12:\n",
    "        return 'Pela manhã'\n",
    "    elif 12 <= hour < 18:\n",
    "        return 'A tarde'\n",
    "    elif 18 <= hour <= 23:\n",
    "        return 'A noite'\n",
    "    else:\n",
    "        return np.NaN"
   ]
  },
  {
   "cell_type": "code",
   "execution_count": 22,
   "metadata": {},
   "outputs": [],
   "source": [
    "# aplicando a função em uma nova coluna\n",
    "dados['PERIODO'] = dados['HORA_OCORRENCIA_BO'].apply(descricao_periodo)"
   ]
  },
  {
   "cell_type": "code",
   "execution_count": 23,
   "metadata": {},
   "outputs": [
    {
     "data": {
      "text/html": [
       "<div>\n",
       "<style scoped>\n",
       "    .dataframe tbody tr th:only-of-type {\n",
       "        vertical-align: middle;\n",
       "    }\n",
       "\n",
       "    .dataframe tbody tr th {\n",
       "        vertical-align: top;\n",
       "    }\n",
       "\n",
       "    .dataframe thead th {\n",
       "        text-align: right;\n",
       "    }\n",
       "</style>\n",
       "<table border=\"1\" class=\"dataframe\">\n",
       "  <thead>\n",
       "    <tr style=\"text-align: right;\">\n",
       "      <th></th>\n",
       "      <th>HORA_OCORRENCIA_BO</th>\n",
       "      <th>DESC_PERIODO</th>\n",
       "      <th>PERIODO</th>\n",
       "    </tr>\n",
       "  </thead>\n",
       "  <tbody>\n",
       "    <tr>\n",
       "      <th>0</th>\n",
       "      <td>21.0</td>\n",
       "      <td>NaN</td>\n",
       "      <td>A noite</td>\n",
       "    </tr>\n",
       "    <tr>\n",
       "      <th>1</th>\n",
       "      <td>20.0</td>\n",
       "      <td>NaN</td>\n",
       "      <td>A noite</td>\n",
       "    </tr>\n",
       "    <tr>\n",
       "      <th>2</th>\n",
       "      <td>NaN</td>\n",
       "      <td>A noite</td>\n",
       "      <td>NaN</td>\n",
       "    </tr>\n",
       "    <tr>\n",
       "      <th>3</th>\n",
       "      <td>NaN</td>\n",
       "      <td>Pela manhã</td>\n",
       "      <td>NaN</td>\n",
       "    </tr>\n",
       "    <tr>\n",
       "      <th>4</th>\n",
       "      <td>NaN</td>\n",
       "      <td>A tarde</td>\n",
       "      <td>NaN</td>\n",
       "    </tr>\n",
       "    <tr>\n",
       "      <th>5</th>\n",
       "      <td>21.0</td>\n",
       "      <td>NaN</td>\n",
       "      <td>A noite</td>\n",
       "    </tr>\n",
       "    <tr>\n",
       "      <th>6</th>\n",
       "      <td>NaN</td>\n",
       "      <td>De madrugada</td>\n",
       "      <td>NaN</td>\n",
       "    </tr>\n",
       "    <tr>\n",
       "      <th>7</th>\n",
       "      <td>NaN</td>\n",
       "      <td>A tarde</td>\n",
       "      <td>NaN</td>\n",
       "    </tr>\n",
       "    <tr>\n",
       "      <th>8</th>\n",
       "      <td>7.0</td>\n",
       "      <td>NaN</td>\n",
       "      <td>Pela manhã</td>\n",
       "    </tr>\n",
       "    <tr>\n",
       "      <th>9</th>\n",
       "      <td>NaN</td>\n",
       "      <td>Pela manhã</td>\n",
       "      <td>NaN</td>\n",
       "    </tr>\n",
       "    <tr>\n",
       "      <th>10</th>\n",
       "      <td>16.0</td>\n",
       "      <td>NaN</td>\n",
       "      <td>A tarde</td>\n",
       "    </tr>\n",
       "    <tr>\n",
       "      <th>11</th>\n",
       "      <td>20.0</td>\n",
       "      <td>NaN</td>\n",
       "      <td>A noite</td>\n",
       "    </tr>\n",
       "    <tr>\n",
       "      <th>12</th>\n",
       "      <td>20.0</td>\n",
       "      <td>NaN</td>\n",
       "      <td>A noite</td>\n",
       "    </tr>\n",
       "    <tr>\n",
       "      <th>13</th>\n",
       "      <td>NaN</td>\n",
       "      <td>A tarde</td>\n",
       "      <td>NaN</td>\n",
       "    </tr>\n",
       "    <tr>\n",
       "      <th>14</th>\n",
       "      <td>NaN</td>\n",
       "      <td>A noite</td>\n",
       "      <td>NaN</td>\n",
       "    </tr>\n",
       "    <tr>\n",
       "      <th>15</th>\n",
       "      <td>NaN</td>\n",
       "      <td>Pela manhã</td>\n",
       "      <td>NaN</td>\n",
       "    </tr>\n",
       "    <tr>\n",
       "      <th>16</th>\n",
       "      <td>NaN</td>\n",
       "      <td>A tarde</td>\n",
       "      <td>NaN</td>\n",
       "    </tr>\n",
       "    <tr>\n",
       "      <th>17</th>\n",
       "      <td>14.0</td>\n",
       "      <td>NaN</td>\n",
       "      <td>A tarde</td>\n",
       "    </tr>\n",
       "    <tr>\n",
       "      <th>18</th>\n",
       "      <td>NaN</td>\n",
       "      <td>Pela manhã</td>\n",
       "      <td>NaN</td>\n",
       "    </tr>\n",
       "    <tr>\n",
       "      <th>19</th>\n",
       "      <td>NaN</td>\n",
       "      <td>Pela manhã</td>\n",
       "      <td>NaN</td>\n",
       "    </tr>\n",
       "  </tbody>\n",
       "</table>\n",
       "</div>"
      ],
      "text/plain": [
       "    HORA_OCORRENCIA_BO  DESC_PERIODO     PERIODO\n",
       "0                 21.0           NaN     A noite\n",
       "1                 20.0           NaN     A noite\n",
       "2                  NaN       A noite         NaN\n",
       "3                  NaN    Pela manhã         NaN\n",
       "4                  NaN       A tarde         NaN\n",
       "5                 21.0           NaN     A noite\n",
       "6                  NaN  De madrugada         NaN\n",
       "7                  NaN       A tarde         NaN\n",
       "8                  7.0           NaN  Pela manhã\n",
       "9                  NaN    Pela manhã         NaN\n",
       "10                16.0           NaN     A tarde\n",
       "11                20.0           NaN     A noite\n",
       "12                20.0           NaN     A noite\n",
       "13                 NaN       A tarde         NaN\n",
       "14                 NaN       A noite         NaN\n",
       "15                 NaN    Pela manhã         NaN\n",
       "16                 NaN       A tarde         NaN\n",
       "17                14.0           NaN     A tarde\n",
       "18                 NaN    Pela manhã         NaN\n",
       "19                 NaN    Pela manhã         NaN"
      ]
     },
     "execution_count": 23,
     "metadata": {},
     "output_type": "execute_result"
    }
   ],
   "source": [
    "# comparando as colunas e conferindo os valores\n",
    "dados[['HORA_OCORRENCIA_BO','DESC_PERIODO','PERIODO']].head(20)"
   ]
  },
  {
   "cell_type": "code",
   "execution_count": 24,
   "metadata": {},
   "outputs": [],
   "source": [
    "# preenchendo os valores nulos da coluna original com valores extraídos pela função \n",
    "dados['DESC_PERIODO'] = dados['DESC_PERIODO'].fillna(dados['PERIODO'])"
   ]
  },
  {
   "cell_type": "code",
   "execution_count": 25,
   "metadata": {},
   "outputs": [
    {
     "data": {
      "text/plain": [
       "94"
      ]
     },
     "execution_count": 25,
     "metadata": {},
     "output_type": "execute_result"
    }
   ],
   "source": [
    "# diminuímos consideravelmente o número de valores nulos! \n",
    "dados['DESC_PERIODO'].isna().sum()"
   ]
  },
  {
   "cell_type": "code",
   "execution_count": 26,
   "metadata": {},
   "outputs": [
    {
     "data": {
      "text/plain": [
       "array(['SE', 'LUZ', 'SÉ', ..., 'JARDIM GUARULHOS', 'VL DOLORES',\n",
       "       'ITARARÉ'], dtype=object)"
      ]
     },
     "execution_count": 26,
     "metadata": {},
     "output_type": "execute_result"
    }
   ],
   "source": [
    "dados['BAIRRO'].unique()"
   ]
  },
  {
   "cell_type": "markdown",
   "metadata": {},
   "source": [
    "A base tem muitos bairros com valores incorretos e diferenças de grafia, esse problema atrapalha na agregação das ocorrencias. Aqui decidi filtrar os 50 bairros com maiores ocorrencias para arrumar os valores divergentes."
   ]
  },
  {
   "cell_type": "code",
   "execution_count": 27,
   "metadata": {},
   "outputs": [],
   "source": [
    "dados['BAIRRO'] = dados['BAIRRO'].str.strip()\n",
    "dados['BAIRRO'] = dados['BAIRRO'].str.title()"
   ]
  },
  {
   "cell_type": "code",
   "execution_count": 28,
   "metadata": {},
   "outputs": [
    {
     "data": {
      "text/plain": [
       "2961"
      ]
     },
     "execution_count": 28,
     "metadata": {},
     "output_type": "execute_result"
    }
   ],
   "source": [
    "dados['BAIRRO'].nunique()"
   ]
  },
  {
   "cell_type": "code",
   "execution_count": 29,
   "metadata": {},
   "outputs": [
    {
     "data": {
      "text/plain": [
       "BAIRRO\n",
       "Pinheiros            22457\n",
       "Bela Vista           19708\n",
       "Republica            18979\n",
       "Santo Amaro          17151\n",
       "Vila Mariana         16456\n",
       "Santana              15958\n",
       "Barra Funda          15438\n",
       "Itaim Bibi           14971\n",
       "Capao Redondo        13856\n",
       "Ipiranga             13387\n",
       "Grajau               13360\n",
       "Bom Retiro           13083\n",
       "Itaquera             13064\n",
       "Se                   12645\n",
       "Liberdade            12450\n",
       "Jardim Paulista      11931\n",
       "Cidade Dutra         11435\n",
       "Consolacao           10989\n",
       "Campo Limpo          10900\n",
       "Tatuape              10382\n",
       "Jabaquara            10352\n",
       "Mooca                10035\n",
       "Brás                 10017\n",
       "Bras                  9904\n",
       "Lapa                  9865\n",
       "Jardim Angela         9318\n",
       "Cidade Ademar         9246\n",
       "Santa Cecilia         9172\n",
       "Jd São Luis           9069\n",
       "Itaim Paulista        8767\n",
       "Sapopemba             8469\n",
       "Perdizes              8403\n",
       "Vila Maria            8367\n",
       "Sacoma                8320\n",
       "Sao Mateus            8208\n",
       "Cidade Tiradentes     7995\n",
       "Brasilandia           7729\n",
       "Vila Prudente         7485\n",
       "Freguesia Do O        7186\n",
       "Consolação            7135\n",
       "Pirituba              7109\n",
       "Vila Guilherme        7044\n",
       "Moema                 6978\n",
       "Guaianases            6910\n",
       "Penha                 6895\n",
       "Vila Andrade          6689\n",
       "Campo Grande          6482\n",
       "Vila Matilde          6305\n",
       "Saude                 6136\n",
       "Tremembe              6126\n",
       "Name: count, dtype: int64"
      ]
     },
     "execution_count": 29,
     "metadata": {},
     "output_type": "execute_result"
    }
   ],
   "source": [
    "dados['BAIRRO'].value_counts().head(50)"
   ]
  },
  {
   "cell_type": "code",
   "execution_count": 30,
   "metadata": {},
   "outputs": [],
   "source": [
    "bairros = {'Se': 'Sé',\n",
    "           'Bras': 'Brás',\n",
    "           'Agua branca': 'Água Branca',\n",
    "           'Alianca': 'Aliança',\n",
    "           'Americanopolis': 'Americanópolis',\n",
    "           'Anhangabau': 'Anhangabaú',\n",
    "           'Brasilandia': 'Brasilândia',\n",
    "           'Broklin': 'Brooklin',\n",
    "           'Republica': 'República',\n",
    "           'Capao redondo': 'Capão Redondo',\n",
    "           'Consolacao': 'Consolação',\n",
    "           'Tatuape': 'Tatuapé',\n",
    "           'Jd são luis': 'Jardim São Luís',\n",
    "           'Sacoma': 'Sacomã',\n",
    "           'Freguesia do o': 'Freguesia do Ó',\n",
    "           'Saude': 'Saúde',\n",
    "           'Tremembe': 'Tremembé'}\n",
    "\n",
    "dados['BAIRRO'] = dados['BAIRRO'].replace(bairros)"
   ]
  },
  {
   "cell_type": "code",
   "execution_count": 31,
   "metadata": {},
   "outputs": [
    {
     "data": {
      "text/plain": [
       "array(['ESTUPRO', 'FURTO - OUTROS', 'FURTO DE CARGA', 'FURTO DE VEÍCULO',\n",
       "       'HOMICÍDIO CULPOSO POR ACIDENTE DE TRÂNSITO', 'HOMICÍDIO DOLOSO',\n",
       "       'LESÃO CORPORAL CULPOSA - OUTRAS',\n",
       "       'LESÃO CORPORAL CULPOSA POR ACIDENTE DE TRÂNSITO',\n",
       "       'LESÃO CORPORAL DOLOSA', 'PORTE DE ARMA', 'PORTE DE ENTORPECENTES',\n",
       "       'ROUBO - OUTROS', 'ROUBO DE VEÍCULO', 'TRÁFICO DE ENTORPECENTES',\n",
       "       'APREENSÃO DE ENTORPECENTES', 'ROUBO DE CARGA',\n",
       "       'ESTUPRO DE VULNERÁVEL', 'LATROCÍNIO', 'TENTATIVA DE HOMICÍDIO',\n",
       "       'LESÃO CORPORAL SEGUIDA DE MORTE', 'EXTORSÃO MEDIANTE SEQUESTRO',\n",
       "       'HOMICÍDIO CULPOSO OUTROS',\n",
       "       'HOMICÍDIO DOLOSO POR ACIDENTE DE TRÂNSITO', 'ROUBO A BANCO',\n",
       "       'Furto de Veículo', 'Roubo de Veículo'], dtype=object)"
      ]
     },
     "execution_count": 31,
     "metadata": {},
     "output_type": "execute_result"
    }
   ],
   "source": [
    "dados['NATUREZA_APURADA'].unique()"
   ]
  },
  {
   "cell_type": "code",
   "execution_count": 32,
   "metadata": {},
   "outputs": [],
   "source": [
    "dados['NATUREZA_APURADA'] = dados['NATUREZA_APURADA'].str.strip()\n",
    "dados['NATUREZA_APURADA'] = dados['NATUREZA_APURADA'].str.capitalize()"
   ]
  },
  {
   "cell_type": "code",
   "execution_count": 33,
   "metadata": {},
   "outputs": [
    {
     "data": {
      "text/plain": [
       "array(['Estupro', 'Furto - outros', 'Furto de carga', 'Furto de veículo',\n",
       "       'Homicídio culposo por acidente de trânsito', 'Homicídio doloso',\n",
       "       'Lesão corporal culposa - outras',\n",
       "       'Lesão corporal culposa por acidente de trânsito',\n",
       "       'Lesão corporal dolosa', 'Porte de arma', 'Porte de entorpecentes',\n",
       "       'Roubo - outros', 'Roubo de veículo', 'Tráfico de entorpecentes',\n",
       "       'Apreensão de entorpecentes', 'Roubo de carga',\n",
       "       'Estupro de vulnerável', 'Latrocínio', 'Tentativa de homicídio',\n",
       "       'Lesão corporal seguida de morte', 'Extorsão mediante sequestro',\n",
       "       'Homicídio culposo outros',\n",
       "       'Homicídio doloso por acidente de trânsito', 'Roubo a banco'],\n",
       "      dtype=object)"
      ]
     },
     "execution_count": 33,
     "metadata": {},
     "output_type": "execute_result"
    }
   ],
   "source": [
    "dados['NATUREZA_APURADA'].unique()"
   ]
  },
  {
   "cell_type": "code",
   "execution_count": 34,
   "metadata": {},
   "outputs": [
    {
     "data": {
      "text/plain": [
       "DESCR_TIPOLOCAL\n",
       "Via Pública                                736952\n",
       "Metroviário e Ferroviário Metropolitano     53763\n",
       "Outros                                      41488\n",
       "Casa                                        35222\n",
       "Terminal/Estação                             5534\n",
       "Residência                                   4842\n",
       "Transeunte                                   4537\n",
       "Apartamento                                  4070\n",
       "Mercado                                      3670\n",
       "Interior de Transporte Coletivo              3656\n",
       "Name: count, dtype: int64"
      ]
     },
     "execution_count": 34,
     "metadata": {},
     "output_type": "execute_result"
    }
   ],
   "source": [
    "dados['DESCR_TIPOLOCAL'].value_counts().head(10)"
   ]
  },
  {
   "cell_type": "markdown",
   "metadata": {},
   "source": [
    "Agora vamos fazer transformações pensando no nosso Dashboard.  \n",
    "O Tableau exige uma certa hierarquia para fazer visualizações geográficas então agora vamos criar essas colunas!"
   ]
  },
  {
   "cell_type": "code",
   "execution_count": 35,
   "metadata": {},
   "outputs": [],
   "source": [
    "dados['PAÍS'] = 'Brazil'\n",
    "dados['ESTADO'] = 'São Paulo'"
   ]
  },
  {
   "cell_type": "code",
   "execution_count": 36,
   "metadata": {},
   "outputs": [],
   "source": [
    "dados.rename(columns={'LATITUDE': 'LAT',\n",
    "                      'LONGITUDE': 'LONG',\n",
    "                      'ANO_ESTATISTICA': 'ANO'}, inplace=True)"
   ]
  },
  {
   "cell_type": "markdown",
   "metadata": {},
   "source": [
    "Organizando e exportando o dataset para ser utilizado no Tableau."
   ]
  },
  {
   "cell_type": "code",
   "execution_count": 37,
   "metadata": {},
   "outputs": [
    {
     "data": {
      "text/plain": [
       "Index(['NOME_DEPARTAMENTO', 'NOME_SECCIONAL', 'NOME_DELEGACIA', 'CIDADE',\n",
       "       'NUM_BO', 'ANO_BO', 'DATA_COMUNICACAO', 'DATA_OCORRENCIA_BO',\n",
       "       'HORA_OCORRENCIA_BO', 'DESC_PERIODO', 'DESCR_TIPOLOCAL', 'BAIRRO',\n",
       "       'LOGRADOURO', 'NUMERO_LOGRADOURO', 'LAT', 'LONG',\n",
       "       'NOME_DELEGACIA_CIRCUNSCRIÇÃO', 'NOME_DEPARTAMENTO_CIRCUNSCRIÇÃO',\n",
       "       'NOME_SECCIONAL_CIRCUNSCRIÇÃO', 'NOME_MUNICIPIO_CIRCUNSCRIÇÃO',\n",
       "       'RUBRICA', 'DESCR_CONDUTA', 'NATUREZA_APURADA', 'MES_ESTATISTICA',\n",
       "       'ANO', 'DIA_DA_SEMANA', 'MÊS', 'PERIODO', 'PAÍS', 'ESTADO'],\n",
       "      dtype='object')"
      ]
     },
     "execution_count": 37,
     "metadata": {},
     "output_type": "execute_result"
    }
   ],
   "source": [
    "dados.columns"
   ]
  },
  {
   "cell_type": "code",
   "execution_count": 38,
   "metadata": {},
   "outputs": [],
   "source": [
    "dados_tableau = dados[['NOME_DEPARTAMENTO', 'NOME_SECCIONAL', 'NOME_DELEGACIA', 'NATUREZA_APURADA', \n",
    "                       'NUM_BO', 'ANO_BO', 'DATA_OCORRENCIA_BO', 'HORA_OCORRENCIA_BO', \n",
    "                       'ANO', 'DIA_DA_SEMANA', 'MÊS', 'DESC_PERIODO', 'DESCR_TIPOLOCAL', \n",
    "                       'PAÍS', 'ESTADO','CIDADE', 'LAT', 'LONG', 'BAIRRO', 'LOGRADOURO', 'NUMERO_LOGRADOURO']]"
   ]
  },
  {
   "cell_type": "code",
   "execution_count": 39,
   "metadata": {},
   "outputs": [
    {
     "data": {
      "text/html": [
       "<div>\n",
       "<style scoped>\n",
       "    .dataframe tbody tr th:only-of-type {\n",
       "        vertical-align: middle;\n",
       "    }\n",
       "\n",
       "    .dataframe tbody tr th {\n",
       "        vertical-align: top;\n",
       "    }\n",
       "\n",
       "    .dataframe thead th {\n",
       "        text-align: right;\n",
       "    }\n",
       "</style>\n",
       "<table border=\"1\" class=\"dataframe\">\n",
       "  <thead>\n",
       "    <tr style=\"text-align: right;\">\n",
       "      <th></th>\n",
       "      <th>NOME_DEPARTAMENTO</th>\n",
       "      <th>NOME_SECCIONAL</th>\n",
       "      <th>NOME_DELEGACIA</th>\n",
       "      <th>NATUREZA_APURADA</th>\n",
       "      <th>NUM_BO</th>\n",
       "      <th>ANO_BO</th>\n",
       "      <th>DATA_OCORRENCIA_BO</th>\n",
       "      <th>HORA_OCORRENCIA_BO</th>\n",
       "      <th>ANO</th>\n",
       "      <th>DIA_DA_SEMANA</th>\n",
       "      <th>MÊS</th>\n",
       "      <th>DESC_PERIODO</th>\n",
       "      <th>DESCR_TIPOLOCAL</th>\n",
       "      <th>PAÍS</th>\n",
       "      <th>ESTADO</th>\n",
       "      <th>CIDADE</th>\n",
       "      <th>LAT</th>\n",
       "      <th>LONG</th>\n",
       "      <th>BAIRRO</th>\n",
       "      <th>LOGRADOURO</th>\n",
       "      <th>NUMERO_LOGRADOURO</th>\n",
       "    </tr>\n",
       "  </thead>\n",
       "  <tbody>\n",
       "    <tr>\n",
       "      <th>0</th>\n",
       "      <td>DECAP</td>\n",
       "      <td>DEL.SEC.1º CENTRO</td>\n",
       "      <td>01ª DDM CENTRO</td>\n",
       "      <td>Estupro</td>\n",
       "      <td>AP5096</td>\n",
       "      <td>2023</td>\n",
       "      <td>2023-01-12</td>\n",
       "      <td>21.0</td>\n",
       "      <td>2023</td>\n",
       "      <td>Quinta-feira</td>\n",
       "      <td>Janeiro</td>\n",
       "      <td>A noite</td>\n",
       "      <td>Praça</td>\n",
       "      <td>Brazil</td>\n",
       "      <td>São Paulo</td>\n",
       "      <td>São Paulo</td>\n",
       "      <td>0.000000</td>\n",
       "      <td>0.000000</td>\n",
       "      <td>Sé</td>\n",
       "      <td>VEDAÇÃO DA DIVULGAÇÃO DOS DADOS RELATIVOS</td>\n",
       "      <td>0</td>\n",
       "    </tr>\n",
       "    <tr>\n",
       "      <th>1</th>\n",
       "      <td>DECAP</td>\n",
       "      <td>DEL.SEC.1º CENTRO</td>\n",
       "      <td>01ª DDM CENTRO</td>\n",
       "      <td>Estupro</td>\n",
       "      <td>BD2233</td>\n",
       "      <td>2023</td>\n",
       "      <td>2023-01-24</td>\n",
       "      <td>20.0</td>\n",
       "      <td>2023</td>\n",
       "      <td>Terça-feira</td>\n",
       "      <td>Janeiro</td>\n",
       "      <td>A noite</td>\n",
       "      <td>Apartamento</td>\n",
       "      <td>Brazil</td>\n",
       "      <td>São Paulo</td>\n",
       "      <td>São Paulo</td>\n",
       "      <td>0.000000</td>\n",
       "      <td>0.000000</td>\n",
       "      <td>Luz</td>\n",
       "      <td>VEDAÇÃO DA DIVULGAÇÃO DOS DADOS RELATIVOS</td>\n",
       "      <td>0</td>\n",
       "    </tr>\n",
       "    <tr>\n",
       "      <th>2</th>\n",
       "      <td>DIPOL - DEPTO DE INTELIGENCIA</td>\n",
       "      <td>DELEGACIA ELETRONICA</td>\n",
       "      <td>DELEGACIA ELETRONICA</td>\n",
       "      <td>Furto - outros</td>\n",
       "      <td>AA0063</td>\n",
       "      <td>2023</td>\n",
       "      <td>2022-12-30</td>\n",
       "      <td>NaN</td>\n",
       "      <td>2023</td>\n",
       "      <td>Sexta-feira</td>\n",
       "      <td>Dezembro</td>\n",
       "      <td>A noite</td>\n",
       "      <td>Via Pública</td>\n",
       "      <td>Brazil</td>\n",
       "      <td>São Paulo</td>\n",
       "      <td>São Paulo</td>\n",
       "      <td>NaN</td>\n",
       "      <td>NaN</td>\n",
       "      <td>Sé</td>\n",
       "      <td>PRAÇA DA SÉ</td>\n",
       "      <td>0</td>\n",
       "    </tr>\n",
       "    <tr>\n",
       "      <th>3</th>\n",
       "      <td>DIPOL - DEPTO DE INTELIGENCIA</td>\n",
       "      <td>DELEGACIA ELETRONICA</td>\n",
       "      <td>DELEGACIA ELETRONICA</td>\n",
       "      <td>Furto - outros</td>\n",
       "      <td>AA0404</td>\n",
       "      <td>2023</td>\n",
       "      <td>2022-12-30</td>\n",
       "      <td>NaN</td>\n",
       "      <td>2023</td>\n",
       "      <td>Sexta-feira</td>\n",
       "      <td>Dezembro</td>\n",
       "      <td>Pela manhã</td>\n",
       "      <td>Metroviário e Ferroviário Metropolitano</td>\n",
       "      <td>Brazil</td>\n",
       "      <td>São Paulo</td>\n",
       "      <td>São Paulo</td>\n",
       "      <td>-23.538994</td>\n",
       "      <td>-46.632093</td>\n",
       "      <td>Sé</td>\n",
       "      <td>RUA VINTE E CINCO DE MARCO</td>\n",
       "      <td>1215</td>\n",
       "    </tr>\n",
       "    <tr>\n",
       "      <th>4</th>\n",
       "      <td>DIPOL - DEPTO DE INTELIGENCIA</td>\n",
       "      <td>DELEGACIA ELETRONICA</td>\n",
       "      <td>DELEGACIA ELETRONICA</td>\n",
       "      <td>Furto - outros</td>\n",
       "      <td>AA0895</td>\n",
       "      <td>2023</td>\n",
       "      <td>2022-12-30</td>\n",
       "      <td>NaN</td>\n",
       "      <td>2023</td>\n",
       "      <td>Sexta-feira</td>\n",
       "      <td>Dezembro</td>\n",
       "      <td>A tarde</td>\n",
       "      <td>Via Pública</td>\n",
       "      <td>Brazil</td>\n",
       "      <td>São Paulo</td>\n",
       "      <td>São Paulo</td>\n",
       "      <td>-23.545009</td>\n",
       "      <td>-46.626562</td>\n",
       "      <td>Centro Histórico De São Paulo</td>\n",
       "      <td>PRAÇA CÍVICA ULYSSES GUIMARÃES</td>\n",
       "      <td>9300</td>\n",
       "    </tr>\n",
       "  </tbody>\n",
       "</table>\n",
       "</div>"
      ],
      "text/plain": [
       "               NOME_DEPARTAMENTO        NOME_SECCIONAL        NOME_DELEGACIA  \\\n",
       "0                          DECAP     DEL.SEC.1º CENTRO        01ª DDM CENTRO   \n",
       "1                          DECAP     DEL.SEC.1º CENTRO        01ª DDM CENTRO   \n",
       "2  DIPOL - DEPTO DE INTELIGENCIA  DELEGACIA ELETRONICA  DELEGACIA ELETRONICA   \n",
       "3  DIPOL - DEPTO DE INTELIGENCIA  DELEGACIA ELETRONICA  DELEGACIA ELETRONICA   \n",
       "4  DIPOL - DEPTO DE INTELIGENCIA  DELEGACIA ELETRONICA  DELEGACIA ELETRONICA   \n",
       "\n",
       "  NATUREZA_APURADA  NUM_BO  ANO_BO DATA_OCORRENCIA_BO  HORA_OCORRENCIA_BO  \\\n",
       "0          Estupro  AP5096    2023         2023-01-12                21.0   \n",
       "1          Estupro  BD2233    2023         2023-01-24                20.0   \n",
       "2   Furto - outros  AA0063    2023         2022-12-30                 NaN   \n",
       "3   Furto - outros  AA0404    2023         2022-12-30                 NaN   \n",
       "4   Furto - outros  AA0895    2023         2022-12-30                 NaN   \n",
       "\n",
       "    ANO DIA_DA_SEMANA       MÊS DESC_PERIODO  \\\n",
       "0  2023  Quinta-feira   Janeiro      A noite   \n",
       "1  2023   Terça-feira   Janeiro      A noite   \n",
       "2  2023   Sexta-feira  Dezembro      A noite   \n",
       "3  2023   Sexta-feira  Dezembro   Pela manhã   \n",
       "4  2023   Sexta-feira  Dezembro      A tarde   \n",
       "\n",
       "                           DESCR_TIPOLOCAL    PAÍS     ESTADO     CIDADE  \\\n",
       "0                                    Praça  Brazil  São Paulo  São Paulo   \n",
       "1                              Apartamento  Brazil  São Paulo  São Paulo   \n",
       "2                              Via Pública  Brazil  São Paulo  São Paulo   \n",
       "3  Metroviário e Ferroviário Metropolitano  Brazil  São Paulo  São Paulo   \n",
       "4                              Via Pública  Brazil  São Paulo  São Paulo   \n",
       "\n",
       "         LAT       LONG                         BAIRRO  \\\n",
       "0   0.000000   0.000000                             Sé   \n",
       "1   0.000000   0.000000                            Luz   \n",
       "2        NaN        NaN                             Sé   \n",
       "3 -23.538994 -46.632093                             Sé   \n",
       "4 -23.545009 -46.626562  Centro Histórico De São Paulo   \n",
       "\n",
       "                                  LOGRADOURO  NUMERO_LOGRADOURO  \n",
       "0  VEDAÇÃO DA DIVULGAÇÃO DOS DADOS RELATIVOS                  0  \n",
       "1  VEDAÇÃO DA DIVULGAÇÃO DOS DADOS RELATIVOS                  0  \n",
       "2                                PRAÇA DA SÉ                  0  \n",
       "3                 RUA VINTE E CINCO DE MARCO               1215  \n",
       "4             PRAÇA CÍVICA ULYSSES GUIMARÃES               9300  "
      ]
     },
     "execution_count": 39,
     "metadata": {},
     "output_type": "execute_result"
    }
   ],
   "source": [
    "dados_tableau.head()"
   ]
  },
  {
   "cell_type": "code",
   "execution_count": 40,
   "metadata": {},
   "outputs": [],
   "source": [
    "dados_tableau.to_csv(\"data/dados_tableau.csv\", index=False)"
   ]
  },
  {
   "cell_type": "code",
   "execution_count": null,
   "metadata": {},
   "outputs": [],
   "source": []
  }
 ],
 "metadata": {
  "kernelspec": {
   "display_name": "base",
   "language": "python",
   "name": "python3"
  },
  "language_info": {
   "codemirror_mode": {
    "name": "ipython",
    "version": 3
   },
   "file_extension": ".py",
   "mimetype": "text/x-python",
   "name": "python",
   "nbconvert_exporter": "python",
   "pygments_lexer": "ipython3",
   "version": "3.12.7"
  }
 },
 "nbformat": 4,
 "nbformat_minor": 2
}
