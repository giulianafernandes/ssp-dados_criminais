{
 "cells": [
  {
   "cell_type": "markdown",
   "metadata": {},
   "source": [
    "## Carregando dados brutos"
   ]
  },
  {
   "cell_type": "code",
   "execution_count": 2,
   "metadata": {},
   "outputs": [],
   "source": [
    "df_2023_01 = pd.read_excel(\"data/SPDadosCriminais_2023.xlsx\", sheet_name='JAN_JUN_2023')\n",
    "df_2023_02 = pd.read_excel(\"data/SPDadosCriminais_2023.xlsx\", sheet_name='JUL_DEZ_2023')\n",
    "df_2024_01 = pd.read_excel(\"data/SPDadosCriminais_2024.xlsx\", sheet_name='JAN-JUN_2024')\n",
    "df_2024_02 = pd.read_excel(\"data/SPDadosCriminais_2024.xlsx\", sheet_name='JUL-DEZ_2024')"
   ]
  },
  {
   "cell_type": "code",
   "execution_count": 3,
   "metadata": {},
   "outputs": [],
   "source": [
    "df_2024_01.rename(columns={\n",
    "                            'NOME_MUNICIPIO': 'CIDADE', ### \n",
    "                            'DATA_REGISTRO': 'DATA_COMUNICACAO', ###\n",
    "                            'DESCR_SUBTIPOLOCAL': 'DESCR_TIPOLOCAL', ###\n",
    "                             }, inplace=True)\n",
    "\n",
    "df_2024_02.rename(columns={\n",
    "                            'NOME_MUNICIPIO': 'CIDADE', ### \n",
    "                            'DATA_REGISTRO': 'DATA_COMUNICACAO', ###\n",
    "                            'DESCR_SUBTIPOLOCAL': 'DESCR_TIPOLOCAL', ###\n",
    "                             }, inplace=True)"
   ]
  },
  {
   "cell_type": "code",
   "execution_count": 4,
   "metadata": {},
   "outputs": [
    {
     "data": {
      "text/plain": [
       "(599423, 25)"
      ]
     },
     "execution_count": 4,
     "metadata": {},
     "output_type": "execute_result"
    }
   ],
   "source": [
    "df_2024_02.shape"
   ]
  },
  {
   "cell_type": "code",
   "execution_count": 5,
   "metadata": {},
   "outputs": [
    {
     "data": {
      "text/plain": [
       "Index(['NOME_DEPARTAMENTO', 'NOME_SECCIONAL', 'NOME_DELEGACIA', 'CIDADE',\n",
       "       'NUM_BO', 'ANO_BO', 'DATA_COMUNICACAO', 'DATA_OCORRENCIA_BO',\n",
       "       'HORA_OCORRENCIA_BO', 'DESC_PERIODO', 'DESCR_TIPOLOCAL', 'BAIRRO',\n",
       "       'LOGRADOURO', 'NUMERO_LOGRADOURO', 'LATITUDE', 'LONGITUDE',\n",
       "       'NOME_DELEGACIA_CIRCUNSCRIÇÃO', 'NOME_DEPARTAMENTO_CIRCUNSCRIÇÃO',\n",
       "       'NOME_SECCIONAL_CIRCUNSCRIÇÃO', 'NOME_MUNICIPIO_CIRCUNSCRIÇÃO',\n",
       "       'RUBRICA', 'DESCR_CONDUTA', 'NATUREZA_APURADA', 'MES_ESTATISTICA',\n",
       "       'ANO_ESTATISTICA'],\n",
       "      dtype='object')"
      ]
     },
     "execution_count": 5,
     "metadata": {},
     "output_type": "execute_result"
    }
   ],
   "source": [
    "df_2023_01.columns"
   ]
  },
  {
   "cell_type": "code",
   "execution_count": 6,
   "metadata": {},
   "outputs": [
    {
     "data": {
      "text/plain": [
       "Index(['NOME_DEPARTAMENTO', 'NOME_SECCIONAL', 'NOME_DELEGACIA', 'CIDADE',\n",
       "       'ANO_BO', 'NUM_BO', 'DATA_COMUNICACAO', 'DATA_OCORRENCIA_BO',\n",
       "       'HORA_OCORRENCIA_BO', 'DESC_PERIODO', 'DESCR_TIPOLOCAL', 'BAIRRO',\n",
       "       'LOGRADOURO', 'NUMERO_LOGRADOURO', 'LATITUDE', 'LONGITUDE',\n",
       "       'NOME_DELEGACIA_CIRCUNSCRIÇÃO', 'NOME_DEPARTAMENTO_CIRCUNSCRIÇÃO',\n",
       "       'NOME_SECCIONAL_CIRCUNSCRIÇÃO', 'NOME_MUNICIPIO_CIRCUNSCRIÇÃO',\n",
       "       'RUBRICA', 'DESCR_CONDUTA', 'NATUREZA_APURADA', 'MES_ESTATISTICA',\n",
       "       'ANO_ESTATISTICA'],\n",
       "      dtype='object')"
      ]
     },
     "execution_count": 6,
     "metadata": {},
     "output_type": "execute_result"
    }
   ],
   "source": [
    "df_2024_01.columns"
   ]
  },
  {
   "cell_type": "code",
   "execution_count": 7,
   "metadata": {},
   "outputs": [],
   "source": [
    "dataframes = [df_2023_01, df_2023_02, df_2024_01, df_2024_02]\n",
    "dados_criminais = pd.concat(dataframes)"
   ]
  },
  {
   "cell_type": "code",
   "execution_count": 8,
   "metadata": {},
   "outputs": [
    {
     "data": {
      "text/plain": [
       "(2433725, 25)"
      ]
     },
     "execution_count": 8,
     "metadata": {},
     "output_type": "execute_result"
    }
   ],
   "source": [
    "dados_criminais.shape"
   ]
  },
  {
   "cell_type": "code",
   "execution_count": null,
   "metadata": {},
   "outputs": [],
   "source": [
    "#descarregando o csv para facilitar\n",
    "dados_criminais.to_csv(\"data/dados_criminais_merge.csv\", index=False)"
   ]
  },
  {
   "cell_type": "markdown",
   "metadata": {},
   "source": [
    "# Análise exploratória e limpeza de dados"
   ]
  },
  {
   "cell_type": "code",
   "execution_count": 2,
   "metadata": {},
   "outputs": [],
   "source": [
    "import pandas as pd\n",
    "import numpy as np \n",
    "\n",
    "pd.set_option('display.max_columns', None)\n",
    "pd.set_option('display.max_rows', None)"
   ]
  },
  {
   "cell_type": "code",
   "execution_count": 3,
   "metadata": {},
   "outputs": [
    {
     "name": "stderr",
     "output_type": "stream",
     "text": [
      "/var/folders/rx/b37fngts0v1fljw_kvgpxnpm0000gn/T/ipykernel_4346/571892937.py:1: DtypeWarning: Columns (13,14) have mixed types. Specify dtype option on import or set low_memory=False.\n",
      "  dados = pd.read_csv('data/dados_criminais_merge.csv')\n"
     ]
    }
   ],
   "source": [
    "dados = pd.read_csv('data/dados_criminais_merge.csv')"
   ]
  },
  {
   "cell_type": "code",
   "execution_count": 4,
   "metadata": {},
   "outputs": [
    {
     "data": {
      "text/plain": [
       "Index(['NUMERO_LOGRADOURO', 'LATITUDE'], dtype='object')"
      ]
     },
     "execution_count": 4,
     "metadata": {},
     "output_type": "execute_result"
    }
   ],
   "source": [
    "dados.columns[13:15]"
   ]
  },
  {
   "cell_type": "code",
   "execution_count": 5,
   "metadata": {},
   "outputs": [],
   "source": [
    "dados['NUMERO_LOGRADOURO'] = pd.to_numeric(dados['NUMERO_LOGRADOURO'],errors='coerce')\n",
    "dados['NUMERO_LOGRADOURO'] = dados['NUMERO_LOGRADOURO'].fillna(0).astype(int)"
   ]
  },
  {
   "cell_type": "code",
   "execution_count": 6,
   "metadata": {},
   "outputs": [
    {
     "name": "stdout",
     "output_type": "stream",
     "text": [
      "<class 'pandas.core.frame.DataFrame'>\n",
      "RangeIndex: 2433725 entries, 0 to 2433724\n",
      "Data columns (total 25 columns):\n",
      " #   Column                           Dtype  \n",
      "---  ------                           -----  \n",
      " 0   NOME_DEPARTAMENTO                object \n",
      " 1   NOME_SECCIONAL                   object \n",
      " 2   NOME_DELEGACIA                   object \n",
      " 3   CIDADE                           object \n",
      " 4   NUM_BO                           object \n",
      " 5   ANO_BO                           int64  \n",
      " 6   DATA_COMUNICACAO                 object \n",
      " 7   DATA_OCORRENCIA_BO               object \n",
      " 8   HORA_OCORRENCIA_BO               object \n",
      " 9   DESC_PERIODO                     object \n",
      " 10  DESCR_TIPOLOCAL                  object \n",
      " 11  BAIRRO                           object \n",
      " 12  LOGRADOURO                       object \n",
      " 13  NUMERO_LOGRADOURO                int64  \n",
      " 14  LATITUDE                         object \n",
      " 15  LONGITUDE                        float64\n",
      " 16  NOME_DELEGACIA_CIRCUNSCRIÇÃO     object \n",
      " 17  NOME_DEPARTAMENTO_CIRCUNSCRIÇÃO  object \n",
      " 18  NOME_SECCIONAL_CIRCUNSCRIÇÃO     object \n",
      " 19  NOME_MUNICIPIO_CIRCUNSCRIÇÃO     object \n",
      " 20  RUBRICA                          object \n",
      " 21  DESCR_CONDUTA                    object \n",
      " 22  NATUREZA_APURADA                 object \n",
      " 23  MES_ESTATISTICA                  int64  \n",
      " 24  ANO_ESTATISTICA                  int64  \n",
      "dtypes: float64(1), int64(4), object(20)\n",
      "memory usage: 464.2+ MB\n"
     ]
    }
   ],
   "source": [
    "dados.info()"
   ]
  },
  {
   "cell_type": "code",
   "execution_count": 7,
   "metadata": {},
   "outputs": [
    {
     "data": {
      "text/html": [
       "<div>\n",
       "<style scoped>\n",
       "    .dataframe tbody tr th:only-of-type {\n",
       "        vertical-align: middle;\n",
       "    }\n",
       "\n",
       "    .dataframe tbody tr th {\n",
       "        vertical-align: top;\n",
       "    }\n",
       "\n",
       "    .dataframe thead th {\n",
       "        text-align: right;\n",
       "    }\n",
       "</style>\n",
       "<table border=\"1\" class=\"dataframe\">\n",
       "  <thead>\n",
       "    <tr style=\"text-align: right;\">\n",
       "      <th></th>\n",
       "      <th>NOME_DEPARTAMENTO</th>\n",
       "      <th>NOME_SECCIONAL</th>\n",
       "      <th>NOME_DELEGACIA</th>\n",
       "      <th>CIDADE</th>\n",
       "      <th>NUM_BO</th>\n",
       "      <th>ANO_BO</th>\n",
       "      <th>DATA_COMUNICACAO</th>\n",
       "      <th>DATA_OCORRENCIA_BO</th>\n",
       "      <th>HORA_OCORRENCIA_BO</th>\n",
       "      <th>DESC_PERIODO</th>\n",
       "      <th>DESCR_TIPOLOCAL</th>\n",
       "      <th>BAIRRO</th>\n",
       "      <th>LOGRADOURO</th>\n",
       "      <th>NUMERO_LOGRADOURO</th>\n",
       "      <th>LATITUDE</th>\n",
       "      <th>LONGITUDE</th>\n",
       "      <th>NOME_DELEGACIA_CIRCUNSCRIÇÃO</th>\n",
       "      <th>NOME_DEPARTAMENTO_CIRCUNSCRIÇÃO</th>\n",
       "      <th>NOME_SECCIONAL_CIRCUNSCRIÇÃO</th>\n",
       "      <th>NOME_MUNICIPIO_CIRCUNSCRIÇÃO</th>\n",
       "      <th>RUBRICA</th>\n",
       "      <th>DESCR_CONDUTA</th>\n",
       "      <th>NATUREZA_APURADA</th>\n",
       "      <th>MES_ESTATISTICA</th>\n",
       "      <th>ANO_ESTATISTICA</th>\n",
       "    </tr>\n",
       "  </thead>\n",
       "  <tbody>\n",
       "    <tr>\n",
       "      <th>0</th>\n",
       "      <td>DECAP</td>\n",
       "      <td>DEL.SEC.1º CENTRO</td>\n",
       "      <td>01ª DDM CENTRO</td>\n",
       "      <td>S.PAULO</td>\n",
       "      <td>AP5096</td>\n",
       "      <td>2023</td>\n",
       "      <td>2023-01-14</td>\n",
       "      <td>2023-01-12</td>\n",
       "      <td>21:00:19</td>\n",
       "      <td>NaN</td>\n",
       "      <td>Praça</td>\n",
       "      <td>SE</td>\n",
       "      <td>VEDAÇÃO DA DIVULGAÇÃO DOS DADOS RELATIVOS</td>\n",
       "      <td>0</td>\n",
       "      <td>0.0</td>\n",
       "      <td>0.0</td>\n",
       "      <td>01º D.P. SE</td>\n",
       "      <td>DECAP</td>\n",
       "      <td>DEL.SEC.1º CENTRO</td>\n",
       "      <td>S.PAULO</td>\n",
       "      <td>Art. 213 - Estupro</td>\n",
       "      <td>NaN</td>\n",
       "      <td>ESTUPRO</td>\n",
       "      <td>1</td>\n",
       "      <td>2023</td>\n",
       "    </tr>\n",
       "    <tr>\n",
       "      <th>1</th>\n",
       "      <td>DECAP</td>\n",
       "      <td>DEL.SEC.1º CENTRO</td>\n",
       "      <td>01ª DDM CENTRO</td>\n",
       "      <td>S.PAULO</td>\n",
       "      <td>BD2233</td>\n",
       "      <td>2023</td>\n",
       "      <td>2023-01-25</td>\n",
       "      <td>2023-01-24</td>\n",
       "      <td>20:40:00</td>\n",
       "      <td>NaN</td>\n",
       "      <td>Apartamento</td>\n",
       "      <td>LUZ</td>\n",
       "      <td>VEDAÇÃO DA DIVULGAÇÃO DOS DADOS RELATIVOS</td>\n",
       "      <td>0</td>\n",
       "      <td>0.0</td>\n",
       "      <td>0.0</td>\n",
       "      <td>01º D.P. SE</td>\n",
       "      <td>DECAP</td>\n",
       "      <td>DEL.SEC.1º CENTRO</td>\n",
       "      <td>S.PAULO</td>\n",
       "      <td>Art. 213 - Estupro</td>\n",
       "      <td>NaN</td>\n",
       "      <td>ESTUPRO</td>\n",
       "      <td>1</td>\n",
       "      <td>2023</td>\n",
       "    </tr>\n",
       "    <tr>\n",
       "      <th>2</th>\n",
       "      <td>DIPOL - DEPTO DE INTELIGENCIA</td>\n",
       "      <td>DELEGACIA ELETRONICA</td>\n",
       "      <td>DELEGACIA ELETRONICA</td>\n",
       "      <td>S.PAULO</td>\n",
       "      <td>AA0063</td>\n",
       "      <td>2023</td>\n",
       "      <td>2022-12-31</td>\n",
       "      <td>2022-12-30</td>\n",
       "      <td>NaN</td>\n",
       "      <td>A noite</td>\n",
       "      <td>Via Pública</td>\n",
       "      <td>SÉ</td>\n",
       "      <td>PRAÇA DA SÉ</td>\n",
       "      <td>0</td>\n",
       "      <td>NaN</td>\n",
       "      <td>NaN</td>\n",
       "      <td>01º D.P. SE</td>\n",
       "      <td>DECAP</td>\n",
       "      <td>DEL.SEC.1º CENTRO</td>\n",
       "      <td>S.PAULO</td>\n",
       "      <td>Furto (art. 155)</td>\n",
       "      <td>Outros</td>\n",
       "      <td>FURTO - OUTROS</td>\n",
       "      <td>1</td>\n",
       "      <td>2023</td>\n",
       "    </tr>\n",
       "  </tbody>\n",
       "</table>\n",
       "</div>"
      ],
      "text/plain": [
       "               NOME_DEPARTAMENTO        NOME_SECCIONAL        NOME_DELEGACIA  \\\n",
       "0                          DECAP     DEL.SEC.1º CENTRO        01ª DDM CENTRO   \n",
       "1                          DECAP     DEL.SEC.1º CENTRO        01ª DDM CENTRO   \n",
       "2  DIPOL - DEPTO DE INTELIGENCIA  DELEGACIA ELETRONICA  DELEGACIA ELETRONICA   \n",
       "\n",
       "    CIDADE  NUM_BO  ANO_BO DATA_COMUNICACAO DATA_OCORRENCIA_BO  \\\n",
       "0  S.PAULO  AP5096    2023       2023-01-14         2023-01-12   \n",
       "1  S.PAULO  BD2233    2023       2023-01-25         2023-01-24   \n",
       "2  S.PAULO  AA0063    2023       2022-12-31         2022-12-30   \n",
       "\n",
       "  HORA_OCORRENCIA_BO DESC_PERIODO DESCR_TIPOLOCAL BAIRRO  \\\n",
       "0           21:00:19          NaN           Praça     SE   \n",
       "1           20:40:00          NaN     Apartamento    LUZ   \n",
       "2                NaN      A noite     Via Pública     SÉ   \n",
       "\n",
       "                                  LOGRADOURO  NUMERO_LOGRADOURO LATITUDE  \\\n",
       "0  VEDAÇÃO DA DIVULGAÇÃO DOS DADOS RELATIVOS                  0      0.0   \n",
       "1  VEDAÇÃO DA DIVULGAÇÃO DOS DADOS RELATIVOS                  0      0.0   \n",
       "2                                PRAÇA DA SÉ                  0      NaN   \n",
       "\n",
       "   LONGITUDE NOME_DELEGACIA_CIRCUNSCRIÇÃO NOME_DEPARTAMENTO_CIRCUNSCRIÇÃO  \\\n",
       "0        0.0                  01º D.P. SE                           DECAP   \n",
       "1        0.0                  01º D.P. SE                           DECAP   \n",
       "2        NaN                  01º D.P. SE                           DECAP   \n",
       "\n",
       "  NOME_SECCIONAL_CIRCUNSCRIÇÃO NOME_MUNICIPIO_CIRCUNSCRIÇÃO  \\\n",
       "0            DEL.SEC.1º CENTRO                      S.PAULO   \n",
       "1            DEL.SEC.1º CENTRO                      S.PAULO   \n",
       "2            DEL.SEC.1º CENTRO                      S.PAULO   \n",
       "\n",
       "              RUBRICA DESCR_CONDUTA NATUREZA_APURADA  MES_ESTATISTICA  \\\n",
       "0  Art. 213 - Estupro           NaN          ESTUPRO                1   \n",
       "1  Art. 213 - Estupro           NaN          ESTUPRO                1   \n",
       "2    Furto (art. 155)        Outros   FURTO - OUTROS                1   \n",
       "\n",
       "   ANO_ESTATISTICA  \n",
       "0             2023  \n",
       "1             2023  \n",
       "2             2023  "
      ]
     },
     "execution_count": 7,
     "metadata": {},
     "output_type": "execute_result"
    }
   ],
   "source": [
    "dados.head(3)"
   ]
  },
  {
   "cell_type": "code",
   "execution_count": 8,
   "metadata": {},
   "outputs": [
    {
     "data": {
      "text/plain": [
       "array([nan, 'A noite', 'Pela manhã', 'A tarde', 'De madrugada',\n",
       "       'Em hora incerta', 'PELA MANHÃ', 'DE MADRUGADA        ',\n",
       "       'EM HORA INCERTA     ', 'EM HORA INCERTA', 'A NOITE', 'A TARDE',\n",
       "       'DE MADRUGADA'], dtype=object)"
      ]
     },
     "execution_count": 8,
     "metadata": {},
     "output_type": "execute_result"
    }
   ],
   "source": [
    "dados['DESC_PERIODO'].unique()"
   ]
  },
  {
   "cell_type": "code",
   "execution_count": 9,
   "metadata": {},
   "outputs": [],
   "source": [
    "dados['DESC_PERIODO'] = dados['DESC_PERIODO'].str.strip()\n",
    "dados['DESC_PERIODO'] = dados['DESC_PERIODO'].str.capitalize()"
   ]
  },
  {
   "cell_type": "code",
   "execution_count": 10,
   "metadata": {},
   "outputs": [
    {
     "data": {
      "text/plain": [
       "array([nan, 'A noite', 'Pela manhã', 'A tarde', 'De madrugada',\n",
       "       'Em hora incerta'], dtype=object)"
      ]
     },
     "execution_count": 10,
     "metadata": {},
     "output_type": "execute_result"
    }
   ],
   "source": [
    "dados['DESC_PERIODO'].unique()"
   ]
  },
  {
   "cell_type": "code",
   "execution_count": 11,
   "metadata": {},
   "outputs": [
    {
     "data": {
      "text/html": [
       "<div>\n",
       "<style scoped>\n",
       "    .dataframe tbody tr th:only-of-type {\n",
       "        vertical-align: middle;\n",
       "    }\n",
       "\n",
       "    .dataframe tbody tr th {\n",
       "        vertical-align: top;\n",
       "    }\n",
       "\n",
       "    .dataframe thead th {\n",
       "        text-align: right;\n",
       "    }\n",
       "</style>\n",
       "<table border=\"1\" class=\"dataframe\">\n",
       "  <thead>\n",
       "    <tr style=\"text-align: right;\">\n",
       "      <th></th>\n",
       "      <th>DATA_COMUNICACAO</th>\n",
       "      <th>DATA_OCORRENCIA_BO</th>\n",
       "    </tr>\n",
       "  </thead>\n",
       "  <tbody>\n",
       "    <tr>\n",
       "      <th>0</th>\n",
       "      <td>2023-01-14</td>\n",
       "      <td>2023-01-12</td>\n",
       "    </tr>\n",
       "    <tr>\n",
       "      <th>1</th>\n",
       "      <td>2023-01-25</td>\n",
       "      <td>2023-01-24</td>\n",
       "    </tr>\n",
       "    <tr>\n",
       "      <th>2</th>\n",
       "      <td>2022-12-31</td>\n",
       "      <td>2022-12-30</td>\n",
       "    </tr>\n",
       "    <tr>\n",
       "      <th>3</th>\n",
       "      <td>2022-12-31</td>\n",
       "      <td>2022-12-30</td>\n",
       "    </tr>\n",
       "    <tr>\n",
       "      <th>4</th>\n",
       "      <td>2022-12-31</td>\n",
       "      <td>2022-12-30</td>\n",
       "    </tr>\n",
       "  </tbody>\n",
       "</table>\n",
       "</div>"
      ],
      "text/plain": [
       "  DATA_COMUNICACAO DATA_OCORRENCIA_BO\n",
       "0       2023-01-14         2023-01-12\n",
       "1       2023-01-25         2023-01-24\n",
       "2       2022-12-31         2022-12-30\n",
       "3       2022-12-31         2022-12-30\n",
       "4       2022-12-31         2022-12-30"
      ]
     },
     "execution_count": 11,
     "metadata": {},
     "output_type": "execute_result"
    }
   ],
   "source": [
    "dados[['DATA_COMUNICACAO', 'DATA_OCORRENCIA_BO']].head()"
   ]
  },
  {
   "cell_type": "code",
   "execution_count": 12,
   "metadata": {},
   "outputs": [],
   "source": [
    "dados['DATA_COMUNICACAO'] = pd.to_datetime(dados['DATA_COMUNICACAO'],\n",
    "                                          errors='coerce', format = '%Y-%m-%d')\n",
    "dados['DATA_OCORRENCIA_BO'] = pd.to_datetime(dados['DATA_OCORRENCIA_BO'],\n",
    "                                          errors='coerce', format = '%Y-%m-%d')\n"
   ]
  },
  {
   "cell_type": "code",
   "execution_count": 13,
   "metadata": {},
   "outputs": [
    {
     "name": "stdout",
     "output_type": "stream",
     "text": [
      "<class 'pandas.core.frame.DataFrame'>\n",
      "RangeIndex: 2433725 entries, 0 to 2433724\n",
      "Data columns (total 2 columns):\n",
      " #   Column              Dtype         \n",
      "---  ------              -----         \n",
      " 0   DATA_COMUNICACAO    datetime64[ns]\n",
      " 1   DATA_OCORRENCIA_BO  datetime64[ns]\n",
      "dtypes: datetime64[ns](2)\n",
      "memory usage: 37.1 MB\n"
     ]
    }
   ],
   "source": [
    "dados[['DATA_COMUNICACAO', 'DATA_OCORRENCIA_BO']].info()"
   ]
  },
  {
   "cell_type": "code",
   "execution_count": 14,
   "metadata": {},
   "outputs": [
    {
     "data": {
      "text/plain": [
       "array(['S.PAULO', 'GUAIRA', 'FERRAZ DE VASCONCELOS', 'PRESIDENTE ALVES',\n",
       "       'MAIRINQUE', 'DIADEMA', 'OSASCO', 'ASPASIA', 'TABOAO DA SERRA',\n",
       "       'CAIEIRAS', 'CARAPICUIBA', 'GUARULHOS', 'BIRIGUI', 'CACAPAVA',\n",
       "       'S.CAETANO DO SUL', 'ITAPECERICA DA SERRA', 'EMBU DAS ARTES',\n",
       "       'MIRASSOL', 'ADAMANTINA', 'MAUA', 'S.ANDRE', 'ARAPEI', 'AREIAS',\n",
       "       'BANANAL', 'CRUZEIRO', 'LAVRINHAS', 'QUELUZ', 'S.JOSE DO BARREIRO',\n",
       "       'SILVEIRAS', 'APARECIDA', 'ROSEIRA', 'CACHOEIRA PAULISTA', 'CANAS',\n",
       "       'LORENA', 'CUNHA', 'GUARATINGUETA', 'PIQUETE', 'POTIM', 'IGARATA',\n",
       "       'JACAREI', 'PARAIBUNA', 'S.BRANCA', 'GUARAREMA', 'JAMBEIRO',\n",
       "       'MONTEIRO LOBATO', 'S.JOSE DOS CAMPOS', 'CARAGUATATUBA',\n",
       "       'ILHABELA', 'S.SEBASTIAO', 'UBATUBA', 'CAMPOS DO JORDAO',\n",
       "       'S.BENTO DO SAPUCAI', 'LAGOINHA', 'NATIVIDADE DA SERRA',\n",
       "       'PINDAMONHANGABA', 'REDENCAO DA SERRA', 'S.ANTONIO DO PINHAL',\n",
       "       'S.LUIZ DO PARAITINGA', 'TAUBATE', 'TREMEMBE', 'ANDRADINA',\n",
       "       'CASTILHO', 'GUARACAI', 'ILHA SOLTEIRA', 'ITAPURA', 'LAVINIA',\n",
       "       'MIRANDOPOLIS', 'MURUTINGA DO SUL', 'NOVA INDEPENDENCIA',\n",
       "       'PEREIRA BARRETO', 'SUD MENNUCCI', 'SUZANAPOLIS', 'ALTO ALEGRE',\n",
       "       'ARACATUBA', 'OUTRO PAIS', 'AURIFLAMA', 'AVANHANDAVA', 'BARBOSA',\n",
       "       'BENTO DE ABREU', 'BILAC', 'BRAUNA', 'BREJO ALEGRE', 'BURITAMA',\n",
       "       'CLEMENTINA', 'COROADOS', 'GABRIEL MONTEIRO', 'GASTAO VIDIGAL',\n",
       "       'GENERAL SALGADO', 'GLICERIO', 'GUARARAPES', 'GUZOLANDIA',\n",
       "       'LOURDES', 'LUIZIANIA', 'NOVA CASTILHO', 'NOVA LUZITANIA',\n",
       "       'PENAPOLIS', 'PIACATU', 'RUBIACEA', 'S.ANTONIO DE ARACANGUA',\n",
       "       'S.JOAO DE IRACEMA', 'SANTOPOLIS DO AGUAPEI', 'TURIUBA',\n",
       "       'VALPARAISO', 'CAMPINAS', 'VALINHOS', 'PAULINIA', 'VINHEDO',\n",
       "       'SUMARE', 'INDAIATUBA', 'AGUAS DE LINDOIA', 'AMPARO', 'ATIBAIA',\n",
       "       'BRAGANCA PAULISTA', 'BOM JESUS DOS PERDOES', 'JOANOPOLIS',\n",
       "       'LINDOIA', 'MONTE ALEGRE DO SUL', 'NAZARE PAULISTA', 'PEDRA BELA',\n",
       "       'PINHALZINHO', 'PIRACAIA', 'SERRA NEGRA', 'SOCORRO', 'TUIUTI',\n",
       "       'VARGEM', 'CABREUVA', 'CAMPO LIMPO PAULISTA', 'JUNDIAI', 'ITATIBA',\n",
       "       'ITUPEVA', 'JARINU', 'LOUVEIRA', 'MORUNGABA', 'VARZEA PAULISTA',\n",
       "       'ESTIVA GERBI', 'MOGI GUACU', 'HOLAMBRA', 'ITAPIRA', 'JAGUARIUNA',\n",
       "       'S.ANTONIO DE POSSE', 'MOGI MIRIM', 'PEDREIRA',\n",
       "       'AMERICO BRASILIENSE', 'ARARAQUARA', 'BOA ESPERANCA DO SUL',\n",
       "       'BORBOREMA', 'CANDIDO RODRIGUES', 'DOBRADA', 'FERNANDO PRESTES',\n",
       "       'GAVIAO PEIXOTO', 'IBITINGA', 'ITAPOLIS', 'MATAO', 'MOTUCA',\n",
       "       'NOVA EUROPA', 'RINCAO', 'S.ERNESTINA', 'S.LUCIA', 'TABATINGA',\n",
       "       'TAQUARITINGA', 'TRABIJU', 'ALTAIR', 'BARRETOS', 'COLOMBIA',\n",
       "       'SEVERINIA', 'CAJOBI', 'COLINA', 'GUARACI', 'JABORANDI', 'OLIMPIA',\n",
       "       'BEBEDOURO', 'MONTE AZUL PAULISTA', 'PIRANGI', 'TAIACU', 'TAIUVA',\n",
       "       'TERRA ROXA', 'VIRADOURO', 'VISTA ALEGRE DO ALTO', 'ARAMINA',\n",
       "       'BATATAIS', 'BURITIZAL', 'CRISTAIS PAULISTA', 'FRANCA', 'GUARA',\n",
       "       'IGARAPAVA', 'ITIRAPUA', 'ITUVERAVA', 'JERIQUARA', 'MIGUELOPOLIS',\n",
       "       'PATROCINIO PAULISTA', 'PEDREGULHO', 'RESTINGA',\n",
       "       'RIBEIRAO CORRENTE', 'RIFAINA', 'S.JOSE DA BELA VISTA',\n",
       "       'ALTINOPOLIS', 'BRODOWSKI', 'CAJURU', 'CASSIA DOS COQUEIROS',\n",
       "       'CRAVINHOS', 'GUATAPARA', 'JARDINOPOLIS', 'LUIS ANTONIO',\n",
       "       'RIBEIRAO PRETO', 'DUMONT', 'S.ANTONIO DA ALEGRIA',\n",
       "       'S.CRUZ DA ESPERANCA', 'S.ROSA DE VITERBO', 'S.SIMAO',\n",
       "       'SERRA AZUL', 'SERRANA', 'IPUA', 'MORRO AGUDO', 'NUPORANGA',\n",
       "       'ORLANDIA', 'S.JOAQUIM DA BARRA', 'SALES OLIVEIRA', 'DESCALVADO',\n",
       "       'DOURADO', 'IBATE', 'PORTO FERREIRA', 'RIBEIRAO BONITO',\n",
       "       'S.CARLOS', 'S.RITA PASSA QUATRO', 'BARRINHA', 'GUARIBA',\n",
       "       'JABOTICABAL', 'MONTE ALTO', 'PITANGUEIRAS', 'PONTAL',\n",
       "       'PRADOPOLIS', 'SERTAOZINHO', 'TAQUARAL', 'AGUDOS', 'AREALVA',\n",
       "       'AVAI', 'BALBINOS', 'BAURU', 'BOREBI', 'CABRALIA PAULISTA',\n",
       "       'DUARTINA', 'IACANGA', 'LENCOIS PAULISTA', 'LUCIANOPOLIS',\n",
       "       'MACATUBA', 'PAULISTANIA', 'PEDERNEIRAS', 'PIRAJUI', 'PIRATININGA',\n",
       "       'REGINOPOLIS', 'UBIRAJARA', 'BARIRI', 'BARRA BONITA', 'BOCAINA',\n",
       "       'BORACEIA', 'DOIS CORREGOS', 'IGARACU DO TIETE', 'ITAJU', 'ITAPUI',\n",
       "       'JAU', 'MINEIROS DO TIETE', 'CAFELANDIA', 'GETULINA', 'GUAICARA',\n",
       "       'GUAIMBE', 'GUARANTA', 'LINS', 'PONGAI', 'PROMISSAO', 'SABINO',\n",
       "       'ALVARO DE CARVALHO', 'ALVINLANDIA', 'ECHAPORA', 'FERNAO', 'GALIA',\n",
       "       'GARCA', 'JULIO MESQUITA', 'LUPERCIO', 'MARILIA', 'OCAUCU',\n",
       "       'ORIENTE', 'OSCAR BRESSANE', 'POMPEIA', 'VERA CRUZ',\n",
       "       'BERNARDINO DE CAMPOS', 'CANITAR', 'CHAVANTES',\n",
       "       'ESPIRITO S.DO TURVO', 'IPAUSSU', 'OLEO', 'OURINHOS',\n",
       "       'RIBEIRAO DO SUL', 'S.CRUZ DO RIO PARDO', 'S.PEDRO DO TURVO',\n",
       "       'SALTO GRANDE', 'ARCO-IRIS', 'BASTOS', 'HERCULANDIA', 'IACRI',\n",
       "       'PARAPUA', 'QUATA', 'QUEIROZ', 'QUINTANA', 'RINOPOLIS', 'TUPA',\n",
       "       'ARIRANHA', 'CATANDUVA', 'CATIGUA', 'ELISIARIO', 'NOVAIS',\n",
       "       'PALMARES PAULISTA', 'PARAISO', 'PINDORAMA', 'S.ADELIA', 'TABAPUA',\n",
       "       'ESTRELA D OESTE', 'FERNANDOPOLIS', 'TURMALINA', 'GUARANI D OESTE',\n",
       "       'INDIAPORA', 'MACEDONIA', 'MERIDIANO', 'MIRA ESTRELA', 'OUROESTE',\n",
       "       'PEDRANOPOLIS', 'POPULINA', 'S.JOAO DUAS PONTES',\n",
       "       'APARECIDA D OESTE', 'DIRCE REIS', 'DOLCINOPOLIS', 'JALES',\n",
       "       'MARINOPOLIS', 'MESOPOLIS', 'NOVA CANAA PAULISTA',\n",
       "       'PALMEIRA D OESTE', 'PARANAPUA', 'PONTALINDA', 'RUBINEIA',\n",
       "       'S.ALBERTINA', 'S.CLARA D OESTE', 'S.FE DO SUL', 'S.FRANCISCO',\n",
       "       'S.SALETE', 'SANTANA DA PONTE PENSA', 'TRES FRONTEIRAS', 'URANIA',\n",
       "       'VITORIA BRASIL', 'IRAPUA', 'ITAJOBI', 'MARAPOAMA',\n",
       "       'NOVO HORIZONTE', 'SALES', 'URUPES', 'ADOLFO', 'BADY BASSITT',\n",
       "       'BALSAMO', 'CEDRAL', 'S.JOSE DO RIO PRETO', 'GUAPIACU', 'IBIRA',\n",
       "       'ICEM', 'IPIGUA', 'JACI', 'JOSE BONIFACIO', 'MENDONCA',\n",
       "       'MIRASSOLANDIA', 'MONTE APRAZIVEL', 'NEVES PAULISTA', 'NIPOA',\n",
       "       'NOVA ALIANCA', 'NOVA GRANADA', 'ONDA VERDE', 'ORINDIUVA',\n",
       "       'PALESTINA', 'PAULO DE FARIA', 'PLANALTO', 'POLONI', 'POTIRENDABA',\n",
       "       'TANABI', 'UBARANA', 'UCHOA', 'UNIAO PAULISTA', 'ZACARIAS',\n",
       "       'ALVARES FLORENCE', 'AMERICO DE CAMPOS', 'CARDOSO', 'COSMORAMA',\n",
       "       'FLOREAL', 'MACAUBAL', 'MONCOES', 'NHANDEARA', 'PARISI',\n",
       "       'PONTES GESTAL', 'RIOLANDIA', 'SEBASTIANOPOLIS DO SUL',\n",
       "       'VALENTIM GENTIL', 'VOTUPORANGA', 'ITANHAEM', 'PERUIBE',\n",
       "       'MONGAGUA', 'ITARIRI', 'PEDRO DE TOLEDO', 'BARRA DO TURVO',\n",
       "       'CAJATI', 'JACUPIRANGA', 'CANANEIA', 'ELDORADO', 'IPORANGA',\n",
       "       'PARIQUERA-ACU', 'PRAIA GRANDE', 'S.VICENTE', 'IGUAPE',\n",
       "       'ILHA COMPRIDA', 'JUQUIA', 'MIRACATU', 'JUQUITIBA', 'REGISTRO',\n",
       "       'SETE BARRAS', 'BERTIOGA', 'SANTOS', 'CUBATAO', 'GUARUJA',\n",
       "       'AGUAS DE SANTA BARBARA', 'ARANDU', 'AVARE', 'BARAO DE ANTONINA',\n",
       "       'CERQUEIRA CESAR', 'CORONEL MACEDO', 'FARTURA', 'IARAS', 'ITAI',\n",
       "       'ITAPORANGA', 'MANDURI', 'PARANAPANEMA', 'PIRAJU', 'SARUTAIA',\n",
       "       'TAGUAI', 'TAQUARITUBA', 'TEJUPA', 'ANHEMBI', 'AREIOPOLIS',\n",
       "       'BOFETE', 'BOTUCATU', 'PRATANIA', 'CONCHAS', 'ITATINGA',\n",
       "       'LARANJAL PAULISTA', 'PARDINHO', 'PEREIRAS', 'PORANGABA',\n",
       "       'S.MANUEL', 'TORRE DE PEDRA', 'ALAMBARI', 'ANGATUBA', 'BOITUVA',\n",
       "       'ARACARIGUAMA', 'CAMPINA MONTE ALEGRE', 'CAPELA DO ALTO',\n",
       "       'CERQUILHO', 'CESARIO LANGE', 'GUAREI', 'ITAPETININGA', 'QUADRA',\n",
       "       'S.MIGUEL ARCANJO', 'SARAPUI', 'TATUI', 'IPERO', 'APIAI',\n",
       "       'BARRA DO CHAPEU', 'BOM SUCESSO DE ITARARE', 'BURI',\n",
       "       'CAPAO BONITO', 'GUAPIARA', 'ITABERA', 'ITAPEVA',\n",
       "       'ITAPIRAPUA PAULISTA', 'ITARARE', 'NOVA CAMPINA', 'RIBEIRA',\n",
       "       'RIBEIRAO BRANCO', 'RIBEIRAO GRANDE', 'RIVERSUL', 'TAQUARIVAI',\n",
       "       'ALUMINIO', 'ARACOIABA DA SERRA', 'IBIUNA', 'ITU', 'JUMIRIM',\n",
       "       'PIEDADE', 'PILAR DO SUL', 'PORTO FELIZ', 'S.ROQUE', 'SOROCABA',\n",
       "       'SALTO', 'SALTO DE PIRAPORA', 'VOTORANTIM', 'TAPIRAI', 'TIETE',\n",
       "       'FLORA RICA', 'FLORIDA PAULISTA', 'INUBIA PAULISTA', 'IRAPURU',\n",
       "       'LUCELIA', 'MARIAPOLIS', 'OSVALDO CRUZ', 'PACAEMBU', 'PRACINHA',\n",
       "       'SAGRES', 'SALMOURAO', 'ASSIS', 'CAMPOS NOVOS PAULISTA',\n",
       "       'CANDIDO MOTA', 'CRUZALIA', 'FLORINIA', 'IBIRAREMA', 'LUTECIA',\n",
       "       'MARACAI', 'PALMITAL', 'PARAGUACU PAULISTA', 'PEDRINHAS PAULISTA',\n",
       "       'PLATINA', 'TARUMA', 'DRACENA', 'PAULICEIA', 'JUNQUEIROPOLIS',\n",
       "       'MONTE CASTELO', 'NOVA GUATAPORANGA', 'OURO VERDE', 'PANORAMA',\n",
       "       'S.JOAO DO PAU D ALHO', 'S.MERCEDES', 'TUPI PAULISTA',\n",
       "       'ALFREDO MARCONDES', 'ALVARES MACHADO', 'PRESIDENTE PRUDENTE',\n",
       "       'ANHUMAS', 'CAIABU', 'ESTRELA DO NORTE', 'IEPE', 'INDIANA',\n",
       "       'JOAO RAMALHO', 'MARTINOPOLIS', 'NANTES', 'NARANDIBA',\n",
       "       'PIRAPOZINHO', 'PRESIDENTE BERNARDES', 'RANCHARIA',\n",
       "       'REGENTE FEIJO', 'S.EXPEDITO', 'SANDOVALINA', 'TACIBA', 'TARABAI',\n",
       "       'CAIUA', 'EUCLIDES DA CUNHA PTA', 'MARABA PAULISTA',\n",
       "       'MIRANTE PARANAPANEMA', 'PIQUEROBI', 'PRESIDENTE EPITACIO',\n",
       "       'PRESIDENTE VENCESLAU', 'ROSANA', 'S.ANASTACIO', 'TEODORO SAMPAIO',\n",
       "       'AMERICANA', 'S.BARBARA D OESTE', 'NOVA ODESSA', 'ARTUR NOGUEIRA',\n",
       "       'COSMOPOLIS', 'ENGENHEIRO COELHO', 'HORTOLANDIA', 'MONTE MOR',\n",
       "       'CACONDE', 'CASA BRANCA', 'ITOBI', 'MOCOCA',\n",
       "       'S.CRUZ DAS PALMEIRAS', 'S.JOSE DO RIO PARDO', 'TAMBAU',\n",
       "       'TAPIRATIBA', 'ARARAS', 'CONCHAL', 'CORDEIROPOLIS', 'IRACEMAPOLIS',\n",
       "       'LIMEIRA', 'LEME', 'PIRASSUNUNGA', 'S.CRUZ DA CONCEICAO',\n",
       "       'AGUAS DE SAO PEDRO', 'CAPIVARI', 'CHARQUEADA', 'ELIAS FAUSTO',\n",
       "       'MOMBUCA', 'PIRACICABA', 'RAFARD', 'RIO DAS PEDRAS',\n",
       "       'S.MARIA DA SERRA', 'S.PEDRO', 'SALTINHO', 'ANALANDIA', 'BROTAS',\n",
       "       'CORUMBATAI', 'IPEUNA', 'ITIRAPINA', 'RIO CLARO', 'S.GERTRUDES',\n",
       "       'TORRINHA', 'AGUAI', 'AGUAS DA PRATA', 'DIVINOLANDIA',\n",
       "       'ESPIRITO STO. PINHAL', 'S.ANTONIO DO JARDIM',\n",
       "       'S.JOAO DA BOA VISTA', 'S.SEBASTIAO DA GRAMA',\n",
       "       'VARGEM GRANDE DO SUL', 'BARUERI', 'JANDIRA',\n",
       "       'SANTANA DE PARNAIBA', 'COTIA', 'VARGEM GRANDE PAULISTA',\n",
       "       'ITAPEVI', 'PIRAPORA BOM JESUS', 'CAJAMAR', 'S.BERNARDO DO CAMPO',\n",
       "       'FRANCISCO MORATO', 'FRANCO DA ROCHA', 'MAIRIPORA', 'ARUJA',\n",
       "       'S.ISABEL', 'BIRITIBA-MIRIM', 'MOGI DAS CRUZES', 'ITAQUAQUECETUBA',\n",
       "       'POA', 'SUZANO', 'SALESOPOLIS', 'RIBEIRAO PIRES',\n",
       "       'RIO GRANDE DA SERRA', 'EMBU-GUACU', 'S.LOURENCO DA SERRA',\n",
       "       'EMBAUBA', 'URU', 'S.RITA D OESTE', 'MAGDA', 'ITAOCA',\n",
       "       'EMILIANOPOLIS', 'PONTAL DO PARANA', 'TIMBURI', 'BORA',\n",
       "       'RIBEIRAO INDIOS', nan, 'CONCEICAO ALAGOAS', 'FERNADOPOLIS',\n",
       "       'SALVADOR', 'S.PAULO                                 ',\n",
       "       'VALINHOS                                ',\n",
       "       'SOROCABA                                ', 'NAVIRAI',\n",
       "       'GUARULHOS                               ', 'S.FRANCISCO DE SALES',\n",
       "       'S.MATEUS', 'S.JOSE DE PIRANHAS', 'RIO DE JANEIRO', 'CAMPO GRANDE',\n",
       "       'ARCEBURGO', 'POCOS DE CALDAS', 'EXTREMA', 'PIRAQUARA', 'ALFENAS',\n",
       "       'S.MARIA DA VITORIA', 'CURITIBA', 'S.ANGELO'], dtype=object)"
      ]
     },
     "execution_count": 14,
     "metadata": {},
     "output_type": "execute_result"
    }
   ],
   "source": [
    "dados['CIDADE'].unique()"
   ]
  },
  {
   "cell_type": "code",
   "execution_count": 15,
   "metadata": {},
   "outputs": [],
   "source": [
    "dados['CAPITAL_OU_MUNICIPIO'] = np.where(dados['CIDADE'] == 'S.PAULO', 'CAPITAL', 'GRANDE SÃO PAULO')"
   ]
  },
  {
   "cell_type": "code",
   "execution_count": 16,
   "metadata": {},
   "outputs": [
    {
     "data": {
      "text/plain": [
       "CAPITAL_OU_MUNICIPIO\n",
       "GRANDE SÃO PAULO    1455314\n",
       "CAPITAL              978411\n",
       "Name: count, dtype: int64"
      ]
     },
     "execution_count": 16,
     "metadata": {},
     "output_type": "execute_result"
    }
   ],
   "source": [
    "dados['CAPITAL_OU_MUNICIPIO'].value_counts()"
   ]
  },
  {
   "cell_type": "code",
   "execution_count": 17,
   "metadata": {},
   "outputs": [
    {
     "data": {
      "text/plain": [
       "array(['ESTUPRO', 'FURTO - OUTROS', 'FURTO DE CARGA', 'FURTO DE VEÍCULO',\n",
       "       'HOMICÍDIO CULPOSO POR ACIDENTE DE TRÂNSITO', 'HOMICÍDIO DOLOSO',\n",
       "       'LESÃO CORPORAL CULPOSA - OUTRAS',\n",
       "       'LESÃO CORPORAL CULPOSA POR ACIDENTE DE TRÂNSITO',\n",
       "       'LESÃO CORPORAL DOLOSA', 'PORTE DE ARMA', 'PORTE DE ENTORPECENTES',\n",
       "       'ROUBO - OUTROS', 'ROUBO DE VEÍCULO', 'TRÁFICO DE ENTORPECENTES',\n",
       "       'APREENSÃO DE ENTORPECENTES', 'ROUBO DE CARGA',\n",
       "       'ESTUPRO DE VULNERÁVEL', 'LATROCÍNIO', 'TENTATIVA DE HOMICÍDIO',\n",
       "       'LESÃO CORPORAL SEGUIDA DE MORTE', 'EXTORSÃO MEDIANTE SEQUESTRO',\n",
       "       'HOMICÍDIO CULPOSO OUTROS',\n",
       "       'HOMICÍDIO DOLOSO POR ACIDENTE DE TRÂNSITO', 'ROUBO A BANCO',\n",
       "       'Furto de Veículo', 'Roubo de Veículo', 'Furto - Outros',\n",
       "       'Estupro', 'Estupro de Vulnerável', 'Lesão Corporal Dolosa',\n",
       "       'Porte de Entorpecentes', 'Tráfico de Entorpecentes',\n",
       "       'Lesão Corporal Culposa por Acidente de Trânsito'], dtype=object)"
      ]
     },
     "execution_count": 17,
     "metadata": {},
     "output_type": "execute_result"
    }
   ],
   "source": [
    "dados['NATUREZA_APURADA'].unique()"
   ]
  },
  {
   "cell_type": "code",
   "execution_count": 18,
   "metadata": {},
   "outputs": [],
   "source": [
    "dados['NATUREZA_APURADA'] = dados['NATUREZA_APURADA'].str.strip()\n",
    "dados['NATUREZA_APURADA'] = dados['NATUREZA_APURADA'].str.capitalize()"
   ]
  },
  {
   "cell_type": "code",
   "execution_count": 19,
   "metadata": {},
   "outputs": [
    {
     "data": {
      "text/plain": [
       "array(['Estupro', 'Furto - outros', 'Furto de carga', 'Furto de veículo',\n",
       "       'Homicídio culposo por acidente de trânsito', 'Homicídio doloso',\n",
       "       'Lesão corporal culposa - outras',\n",
       "       'Lesão corporal culposa por acidente de trânsito',\n",
       "       'Lesão corporal dolosa', 'Porte de arma', 'Porte de entorpecentes',\n",
       "       'Roubo - outros', 'Roubo de veículo', 'Tráfico de entorpecentes',\n",
       "       'Apreensão de entorpecentes', 'Roubo de carga',\n",
       "       'Estupro de vulnerável', 'Latrocínio', 'Tentativa de homicídio',\n",
       "       'Lesão corporal seguida de morte', 'Extorsão mediante sequestro',\n",
       "       'Homicídio culposo outros',\n",
       "       'Homicídio doloso por acidente de trânsito', 'Roubo a banco'],\n",
       "      dtype=object)"
      ]
     },
     "execution_count": 19,
     "metadata": {},
     "output_type": "execute_result"
    }
   ],
   "source": [
    "dados['NATUREZA_APURADA'].unique()"
   ]
  },
  {
   "cell_type": "code",
   "execution_count": 20,
   "metadata": {},
   "outputs": [
    {
     "data": {
      "text/plain": [
       "NATUREZA_APURADA\n",
       "Furto - outros                                     1131014\n",
       "Roubo - outros                                      410900\n",
       "Lesão corporal dolosa                               300433\n",
       "Furto de veículo                                    188254\n",
       "Lesão corporal culposa por acidente de trânsito     142143\n",
       "Tráfico de entorpecentes                             73537\n",
       "Roubo de veículo                                     69167\n",
       "Porte de entorpecentes                               27954\n",
       "Estupro de vulnerável                                22310\n",
       "Apreensão de entorpecentes                           11008\n",
       "Porte de arma                                        10955\n",
       "Roubo de carga                                       10774\n",
       "Homicídio culposo por acidente de trânsito            7999\n",
       "Tentativa de homicídio                                7187\n",
       "Estupro                                               6783\n",
       "Lesão corporal culposa - outras                       5883\n",
       "Homicídio doloso                                      5093\n",
       "Furto de carga                                        1085\n",
       "Extorsão mediante sequestro                            379\n",
       "Latrocínio                                             330\n",
       "Homicídio culposo outros                               276\n",
       "Lesão corporal seguida de morte                        219\n",
       "Homicídio doloso por acidente de trânsito               30\n",
       "Roubo a banco                                           12\n",
       "Name: count, dtype: int64"
      ]
     },
     "execution_count": 20,
     "metadata": {},
     "output_type": "execute_result"
    }
   ],
   "source": [
    "dados['NATUREZA_APURADA'].value_counts()"
   ]
  },
  {
   "cell_type": "code",
   "execution_count": 21,
   "metadata": {},
   "outputs": [
    {
     "data": {
      "text/html": [
       "<div>\n",
       "<style scoped>\n",
       "    .dataframe tbody tr th:only-of-type {\n",
       "        vertical-align: middle;\n",
       "    }\n",
       "\n",
       "    .dataframe tbody tr th {\n",
       "        vertical-align: top;\n",
       "    }\n",
       "\n",
       "    .dataframe thead th {\n",
       "        text-align: right;\n",
       "    }\n",
       "</style>\n",
       "<table border=\"1\" class=\"dataframe\">\n",
       "  <thead>\n",
       "    <tr style=\"text-align: right;\">\n",
       "      <th></th>\n",
       "      <th>NOME_DEPARTAMENTO</th>\n",
       "      <th>NOME_SECCIONAL</th>\n",
       "      <th>NOME_DELEGACIA</th>\n",
       "      <th>CIDADE</th>\n",
       "      <th>NUM_BO</th>\n",
       "      <th>ANO_BO</th>\n",
       "      <th>DATA_COMUNICACAO</th>\n",
       "      <th>DATA_OCORRENCIA_BO</th>\n",
       "      <th>HORA_OCORRENCIA_BO</th>\n",
       "      <th>DESC_PERIODO</th>\n",
       "      <th>DESCR_TIPOLOCAL</th>\n",
       "      <th>BAIRRO</th>\n",
       "      <th>LOGRADOURO</th>\n",
       "      <th>NUMERO_LOGRADOURO</th>\n",
       "      <th>LATITUDE</th>\n",
       "      <th>LONGITUDE</th>\n",
       "      <th>NOME_DELEGACIA_CIRCUNSCRIÇÃO</th>\n",
       "      <th>NOME_DEPARTAMENTO_CIRCUNSCRIÇÃO</th>\n",
       "      <th>NOME_SECCIONAL_CIRCUNSCRIÇÃO</th>\n",
       "      <th>NOME_MUNICIPIO_CIRCUNSCRIÇÃO</th>\n",
       "      <th>RUBRICA</th>\n",
       "      <th>DESCR_CONDUTA</th>\n",
       "      <th>NATUREZA_APURADA</th>\n",
       "      <th>MES_ESTATISTICA</th>\n",
       "      <th>ANO_ESTATISTICA</th>\n",
       "      <th>CAPITAL_OU_MUNICIPIO</th>\n",
       "    </tr>\n",
       "  </thead>\n",
       "  <tbody>\n",
       "    <tr>\n",
       "      <th>0</th>\n",
       "      <td>DECAP</td>\n",
       "      <td>DEL.SEC.1º CENTRO</td>\n",
       "      <td>01ª DDM CENTRO</td>\n",
       "      <td>S.PAULO</td>\n",
       "      <td>AP5096</td>\n",
       "      <td>2023</td>\n",
       "      <td>2023-01-14</td>\n",
       "      <td>2023-01-12</td>\n",
       "      <td>21:00:19</td>\n",
       "      <td>NaN</td>\n",
       "      <td>Praça</td>\n",
       "      <td>SE</td>\n",
       "      <td>VEDAÇÃO DA DIVULGAÇÃO DOS DADOS RELATIVOS</td>\n",
       "      <td>0</td>\n",
       "      <td>0.0</td>\n",
       "      <td>0.0</td>\n",
       "      <td>01º D.P. SE</td>\n",
       "      <td>DECAP</td>\n",
       "      <td>DEL.SEC.1º CENTRO</td>\n",
       "      <td>S.PAULO</td>\n",
       "      <td>Art. 213 - Estupro</td>\n",
       "      <td>NaN</td>\n",
       "      <td>Estupro</td>\n",
       "      <td>1</td>\n",
       "      <td>2023</td>\n",
       "      <td>CAPITAL</td>\n",
       "    </tr>\n",
       "    <tr>\n",
       "      <th>1</th>\n",
       "      <td>DECAP</td>\n",
       "      <td>DEL.SEC.1º CENTRO</td>\n",
       "      <td>01ª DDM CENTRO</td>\n",
       "      <td>S.PAULO</td>\n",
       "      <td>BD2233</td>\n",
       "      <td>2023</td>\n",
       "      <td>2023-01-25</td>\n",
       "      <td>2023-01-24</td>\n",
       "      <td>20:40:00</td>\n",
       "      <td>NaN</td>\n",
       "      <td>Apartamento</td>\n",
       "      <td>LUZ</td>\n",
       "      <td>VEDAÇÃO DA DIVULGAÇÃO DOS DADOS RELATIVOS</td>\n",
       "      <td>0</td>\n",
       "      <td>0.0</td>\n",
       "      <td>0.0</td>\n",
       "      <td>01º D.P. SE</td>\n",
       "      <td>DECAP</td>\n",
       "      <td>DEL.SEC.1º CENTRO</td>\n",
       "      <td>S.PAULO</td>\n",
       "      <td>Art. 213 - Estupro</td>\n",
       "      <td>NaN</td>\n",
       "      <td>Estupro</td>\n",
       "      <td>1</td>\n",
       "      <td>2023</td>\n",
       "      <td>CAPITAL</td>\n",
       "    </tr>\n",
       "    <tr>\n",
       "      <th>2</th>\n",
       "      <td>DIPOL - DEPTO DE INTELIGENCIA</td>\n",
       "      <td>DELEGACIA ELETRONICA</td>\n",
       "      <td>DELEGACIA ELETRONICA</td>\n",
       "      <td>S.PAULO</td>\n",
       "      <td>AA0063</td>\n",
       "      <td>2023</td>\n",
       "      <td>2022-12-31</td>\n",
       "      <td>2022-12-30</td>\n",
       "      <td>NaN</td>\n",
       "      <td>A noite</td>\n",
       "      <td>Via Pública</td>\n",
       "      <td>SÉ</td>\n",
       "      <td>PRAÇA DA SÉ</td>\n",
       "      <td>0</td>\n",
       "      <td>NaN</td>\n",
       "      <td>NaN</td>\n",
       "      <td>01º D.P. SE</td>\n",
       "      <td>DECAP</td>\n",
       "      <td>DEL.SEC.1º CENTRO</td>\n",
       "      <td>S.PAULO</td>\n",
       "      <td>Furto (art. 155)</td>\n",
       "      <td>Outros</td>\n",
       "      <td>Furto - outros</td>\n",
       "      <td>1</td>\n",
       "      <td>2023</td>\n",
       "      <td>CAPITAL</td>\n",
       "    </tr>\n",
       "  </tbody>\n",
       "</table>\n",
       "</div>"
      ],
      "text/plain": [
       "               NOME_DEPARTAMENTO        NOME_SECCIONAL        NOME_DELEGACIA  \\\n",
       "0                          DECAP     DEL.SEC.1º CENTRO        01ª DDM CENTRO   \n",
       "1                          DECAP     DEL.SEC.1º CENTRO        01ª DDM CENTRO   \n",
       "2  DIPOL - DEPTO DE INTELIGENCIA  DELEGACIA ELETRONICA  DELEGACIA ELETRONICA   \n",
       "\n",
       "    CIDADE  NUM_BO  ANO_BO DATA_COMUNICACAO DATA_OCORRENCIA_BO  \\\n",
       "0  S.PAULO  AP5096    2023       2023-01-14         2023-01-12   \n",
       "1  S.PAULO  BD2233    2023       2023-01-25         2023-01-24   \n",
       "2  S.PAULO  AA0063    2023       2022-12-31         2022-12-30   \n",
       "\n",
       "  HORA_OCORRENCIA_BO DESC_PERIODO DESCR_TIPOLOCAL BAIRRO  \\\n",
       "0           21:00:19          NaN           Praça     SE   \n",
       "1           20:40:00          NaN     Apartamento    LUZ   \n",
       "2                NaN      A noite     Via Pública     SÉ   \n",
       "\n",
       "                                  LOGRADOURO  NUMERO_LOGRADOURO LATITUDE  \\\n",
       "0  VEDAÇÃO DA DIVULGAÇÃO DOS DADOS RELATIVOS                  0      0.0   \n",
       "1  VEDAÇÃO DA DIVULGAÇÃO DOS DADOS RELATIVOS                  0      0.0   \n",
       "2                                PRAÇA DA SÉ                  0      NaN   \n",
       "\n",
       "   LONGITUDE NOME_DELEGACIA_CIRCUNSCRIÇÃO NOME_DEPARTAMENTO_CIRCUNSCRIÇÃO  \\\n",
       "0        0.0                  01º D.P. SE                           DECAP   \n",
       "1        0.0                  01º D.P. SE                           DECAP   \n",
       "2        NaN                  01º D.P. SE                           DECAP   \n",
       "\n",
       "  NOME_SECCIONAL_CIRCUNSCRIÇÃO NOME_MUNICIPIO_CIRCUNSCRIÇÃO  \\\n",
       "0            DEL.SEC.1º CENTRO                      S.PAULO   \n",
       "1            DEL.SEC.1º CENTRO                      S.PAULO   \n",
       "2            DEL.SEC.1º CENTRO                      S.PAULO   \n",
       "\n",
       "              RUBRICA DESCR_CONDUTA NATUREZA_APURADA  MES_ESTATISTICA  \\\n",
       "0  Art. 213 - Estupro           NaN          Estupro                1   \n",
       "1  Art. 213 - Estupro           NaN          Estupro                1   \n",
       "2    Furto (art. 155)        Outros   Furto - outros                1   \n",
       "\n",
       "   ANO_ESTATISTICA CAPITAL_OU_MUNICIPIO  \n",
       "0             2023              CAPITAL  \n",
       "1             2023              CAPITAL  \n",
       "2             2023              CAPITAL  "
      ]
     },
     "execution_count": 21,
     "metadata": {},
     "output_type": "execute_result"
    }
   ],
   "source": [
    "dados.head(3)"
   ]
  },
  {
   "cell_type": "code",
   "execution_count": 22,
   "metadata": {},
   "outputs": [
    {
     "data": {
      "text/plain": [
       "LOGRADOURO\n",
       "VEDAÇÃO DA DIVULGAÇÃO DOS DADOS RELATIVOS    388562\n",
       "AVENIDA PAULISTA                               9498\n",
       "AVENIDA CRUZEIRO DO SUL                        7097\n",
       "PRAÇA DA LUZ                                   5172\n",
       "RUA AUGUSTA                                    4970\n",
       "AVENIDA MÁRIO DE ANDRADE                       4940\n",
       "AVENIDA BRIGADEIRO FARIA LIMA                  4841\n",
       "AVENIDA PRESIDENTE CASTELO BRANCO              4641\n",
       "AVENIDA DO ESTADO                              4568\n",
       "AVENIDA BRASIL                                 4492\n",
       "Name: count, dtype: int64"
      ]
     },
     "execution_count": 22,
     "metadata": {},
     "output_type": "execute_result"
    }
   ],
   "source": [
    "dados['LOGRADOURO'].value_counts().head(10)"
   ]
  },
  {
   "cell_type": "code",
   "execution_count": 23,
   "metadata": {},
   "outputs": [
    {
     "data": {
      "text/plain": [
       "BAIRRO\n",
       "CENTRO          177700\n",
       "RURAL            34871\n",
       "BELA VISTA       22160\n",
       "PINHEIROS        21792\n",
       "REPUBLICA        18984\n",
       "VILA MARIANA     16916\n",
       "SANTO AMARO      16894\n",
       "SANTANA          16612\n",
       "AREA RURAL       16118\n",
       "BARRA FUNDA      15574\n",
       "Name: count, dtype: int64"
      ]
     },
     "execution_count": 23,
     "metadata": {},
     "output_type": "execute_result"
    }
   ],
   "source": [
    "dados['BAIRRO'].value_counts().head(10)"
   ]
  },
  {
   "cell_type": "code",
   "execution_count": 24,
   "metadata": {},
   "outputs": [],
   "source": [
    "dados['DIA_DA_SEMANA'] = dados['DATA_OCORRENCIA_BO'].dt.day_name()"
   ]
  },
  {
   "cell_type": "code",
   "execution_count": 25,
   "metadata": {},
   "outputs": [],
   "source": [
    "dias_semana = {\n",
    "    \"Monday\": \"Segunda-feira\",\n",
    "    \"Tuesday\": \"Terça-feira\",\n",
    "    \"Wednesday\": \"Quarta-feira\",\n",
    "    \"Thursday\": \"Quinta-feira\",\n",
    "    \"Friday\": \"Sexta-feira\",\n",
    "    \"Saturday\": \"Sábado\",\n",
    "    \"Sunday\": \"Domingo\"\n",
    "}\n",
    "\n",
    "dados['DIA_DA_SEMANA'] = dados['DIA_DA_SEMANA'].map(dias_semana)"
   ]
  },
  {
   "cell_type": "code",
   "execution_count": 26,
   "metadata": {},
   "outputs": [
    {
     "data": {
      "text/html": [
       "<div>\n",
       "<style scoped>\n",
       "    .dataframe tbody tr th:only-of-type {\n",
       "        vertical-align: middle;\n",
       "    }\n",
       "\n",
       "    .dataframe tbody tr th {\n",
       "        vertical-align: top;\n",
       "    }\n",
       "\n",
       "    .dataframe thead th {\n",
       "        text-align: right;\n",
       "    }\n",
       "</style>\n",
       "<table border=\"1\" class=\"dataframe\">\n",
       "  <thead>\n",
       "    <tr style=\"text-align: right;\">\n",
       "      <th></th>\n",
       "      <th>NOME_DEPARTAMENTO</th>\n",
       "      <th>NOME_SECCIONAL</th>\n",
       "      <th>NOME_DELEGACIA</th>\n",
       "      <th>CIDADE</th>\n",
       "      <th>NUM_BO</th>\n",
       "      <th>ANO_BO</th>\n",
       "      <th>DATA_COMUNICACAO</th>\n",
       "      <th>DATA_OCORRENCIA_BO</th>\n",
       "      <th>HORA_OCORRENCIA_BO</th>\n",
       "      <th>DESC_PERIODO</th>\n",
       "      <th>DESCR_TIPOLOCAL</th>\n",
       "      <th>BAIRRO</th>\n",
       "      <th>LOGRADOURO</th>\n",
       "      <th>NUMERO_LOGRADOURO</th>\n",
       "      <th>LATITUDE</th>\n",
       "      <th>LONGITUDE</th>\n",
       "      <th>NOME_DELEGACIA_CIRCUNSCRIÇÃO</th>\n",
       "      <th>NOME_DEPARTAMENTO_CIRCUNSCRIÇÃO</th>\n",
       "      <th>NOME_SECCIONAL_CIRCUNSCRIÇÃO</th>\n",
       "      <th>NOME_MUNICIPIO_CIRCUNSCRIÇÃO</th>\n",
       "      <th>RUBRICA</th>\n",
       "      <th>DESCR_CONDUTA</th>\n",
       "      <th>NATUREZA_APURADA</th>\n",
       "      <th>MES_ESTATISTICA</th>\n",
       "      <th>ANO_ESTATISTICA</th>\n",
       "      <th>CAPITAL_OU_MUNICIPIO</th>\n",
       "      <th>DIA_DA_SEMANA</th>\n",
       "    </tr>\n",
       "  </thead>\n",
       "  <tbody>\n",
       "    <tr>\n",
       "      <th>0</th>\n",
       "      <td>DECAP</td>\n",
       "      <td>DEL.SEC.1º CENTRO</td>\n",
       "      <td>01ª DDM CENTRO</td>\n",
       "      <td>S.PAULO</td>\n",
       "      <td>AP5096</td>\n",
       "      <td>2023</td>\n",
       "      <td>2023-01-14</td>\n",
       "      <td>2023-01-12</td>\n",
       "      <td>21:00:19</td>\n",
       "      <td>NaN</td>\n",
       "      <td>Praça</td>\n",
       "      <td>SE</td>\n",
       "      <td>VEDAÇÃO DA DIVULGAÇÃO DOS DADOS RELATIVOS</td>\n",
       "      <td>0</td>\n",
       "      <td>0.0</td>\n",
       "      <td>0.0</td>\n",
       "      <td>01º D.P. SE</td>\n",
       "      <td>DECAP</td>\n",
       "      <td>DEL.SEC.1º CENTRO</td>\n",
       "      <td>S.PAULO</td>\n",
       "      <td>Art. 213 - Estupro</td>\n",
       "      <td>NaN</td>\n",
       "      <td>Estupro</td>\n",
       "      <td>1</td>\n",
       "      <td>2023</td>\n",
       "      <td>CAPITAL</td>\n",
       "      <td>Quinta-feira</td>\n",
       "    </tr>\n",
       "    <tr>\n",
       "      <th>1</th>\n",
       "      <td>DECAP</td>\n",
       "      <td>DEL.SEC.1º CENTRO</td>\n",
       "      <td>01ª DDM CENTRO</td>\n",
       "      <td>S.PAULO</td>\n",
       "      <td>BD2233</td>\n",
       "      <td>2023</td>\n",
       "      <td>2023-01-25</td>\n",
       "      <td>2023-01-24</td>\n",
       "      <td>20:40:00</td>\n",
       "      <td>NaN</td>\n",
       "      <td>Apartamento</td>\n",
       "      <td>LUZ</td>\n",
       "      <td>VEDAÇÃO DA DIVULGAÇÃO DOS DADOS RELATIVOS</td>\n",
       "      <td>0</td>\n",
       "      <td>0.0</td>\n",
       "      <td>0.0</td>\n",
       "      <td>01º D.P. SE</td>\n",
       "      <td>DECAP</td>\n",
       "      <td>DEL.SEC.1º CENTRO</td>\n",
       "      <td>S.PAULO</td>\n",
       "      <td>Art. 213 - Estupro</td>\n",
       "      <td>NaN</td>\n",
       "      <td>Estupro</td>\n",
       "      <td>1</td>\n",
       "      <td>2023</td>\n",
       "      <td>CAPITAL</td>\n",
       "      <td>Terça-feira</td>\n",
       "    </tr>\n",
       "    <tr>\n",
       "      <th>2</th>\n",
       "      <td>DIPOL - DEPTO DE INTELIGENCIA</td>\n",
       "      <td>DELEGACIA ELETRONICA</td>\n",
       "      <td>DELEGACIA ELETRONICA</td>\n",
       "      <td>S.PAULO</td>\n",
       "      <td>AA0063</td>\n",
       "      <td>2023</td>\n",
       "      <td>2022-12-31</td>\n",
       "      <td>2022-12-30</td>\n",
       "      <td>NaN</td>\n",
       "      <td>A noite</td>\n",
       "      <td>Via Pública</td>\n",
       "      <td>SÉ</td>\n",
       "      <td>PRAÇA DA SÉ</td>\n",
       "      <td>0</td>\n",
       "      <td>NaN</td>\n",
       "      <td>NaN</td>\n",
       "      <td>01º D.P. SE</td>\n",
       "      <td>DECAP</td>\n",
       "      <td>DEL.SEC.1º CENTRO</td>\n",
       "      <td>S.PAULO</td>\n",
       "      <td>Furto (art. 155)</td>\n",
       "      <td>Outros</td>\n",
       "      <td>Furto - outros</td>\n",
       "      <td>1</td>\n",
       "      <td>2023</td>\n",
       "      <td>CAPITAL</td>\n",
       "      <td>Sexta-feira</td>\n",
       "    </tr>\n",
       "  </tbody>\n",
       "</table>\n",
       "</div>"
      ],
      "text/plain": [
       "               NOME_DEPARTAMENTO        NOME_SECCIONAL        NOME_DELEGACIA  \\\n",
       "0                          DECAP     DEL.SEC.1º CENTRO        01ª DDM CENTRO   \n",
       "1                          DECAP     DEL.SEC.1º CENTRO        01ª DDM CENTRO   \n",
       "2  DIPOL - DEPTO DE INTELIGENCIA  DELEGACIA ELETRONICA  DELEGACIA ELETRONICA   \n",
       "\n",
       "    CIDADE  NUM_BO  ANO_BO DATA_COMUNICACAO DATA_OCORRENCIA_BO  \\\n",
       "0  S.PAULO  AP5096    2023       2023-01-14         2023-01-12   \n",
       "1  S.PAULO  BD2233    2023       2023-01-25         2023-01-24   \n",
       "2  S.PAULO  AA0063    2023       2022-12-31         2022-12-30   \n",
       "\n",
       "  HORA_OCORRENCIA_BO DESC_PERIODO DESCR_TIPOLOCAL BAIRRO  \\\n",
       "0           21:00:19          NaN           Praça     SE   \n",
       "1           20:40:00          NaN     Apartamento    LUZ   \n",
       "2                NaN      A noite     Via Pública     SÉ   \n",
       "\n",
       "                                  LOGRADOURO  NUMERO_LOGRADOURO LATITUDE  \\\n",
       "0  VEDAÇÃO DA DIVULGAÇÃO DOS DADOS RELATIVOS                  0      0.0   \n",
       "1  VEDAÇÃO DA DIVULGAÇÃO DOS DADOS RELATIVOS                  0      0.0   \n",
       "2                                PRAÇA DA SÉ                  0      NaN   \n",
       "\n",
       "   LONGITUDE NOME_DELEGACIA_CIRCUNSCRIÇÃO NOME_DEPARTAMENTO_CIRCUNSCRIÇÃO  \\\n",
       "0        0.0                  01º D.P. SE                           DECAP   \n",
       "1        0.0                  01º D.P. SE                           DECAP   \n",
       "2        NaN                  01º D.P. SE                           DECAP   \n",
       "\n",
       "  NOME_SECCIONAL_CIRCUNSCRIÇÃO NOME_MUNICIPIO_CIRCUNSCRIÇÃO  \\\n",
       "0            DEL.SEC.1º CENTRO                      S.PAULO   \n",
       "1            DEL.SEC.1º CENTRO                      S.PAULO   \n",
       "2            DEL.SEC.1º CENTRO                      S.PAULO   \n",
       "\n",
       "              RUBRICA DESCR_CONDUTA NATUREZA_APURADA  MES_ESTATISTICA  \\\n",
       "0  Art. 213 - Estupro           NaN          Estupro                1   \n",
       "1  Art. 213 - Estupro           NaN          Estupro                1   \n",
       "2    Furto (art. 155)        Outros   Furto - outros                1   \n",
       "\n",
       "   ANO_ESTATISTICA CAPITAL_OU_MUNICIPIO DIA_DA_SEMANA  \n",
       "0             2023              CAPITAL  Quinta-feira  \n",
       "1             2023              CAPITAL   Terça-feira  \n",
       "2             2023              CAPITAL   Sexta-feira  "
      ]
     },
     "execution_count": 26,
     "metadata": {},
     "output_type": "execute_result"
    }
   ],
   "source": [
    "dados.head(3)"
   ]
  },
  {
   "cell_type": "code",
   "execution_count": 27,
   "metadata": {},
   "outputs": [],
   "source": [
    "dados['HORA_OCORRENCIA_BO'] = pd.to_datetime(dados['HORA_OCORRENCIA_BO'],\n",
    "                                             format='%H:%M:%S', errors='coerce').dt.time"
   ]
  },
  {
   "cell_type": "code",
   "execution_count": 28,
   "metadata": {},
   "outputs": [
    {
     "name": "stdout",
     "output_type": "stream",
     "text": [
      "<class 'pandas.core.series.Series'>\n",
      "RangeIndex: 2433725 entries, 0 to 2433724\n",
      "Series name: HORA_OCORRENCIA_BO\n",
      "Non-Null Count    Dtype \n",
      "--------------    ----- \n",
      "1709548 non-null  object\n",
      "dtypes: object(1)\n",
      "memory usage: 18.6+ MB\n"
     ]
    }
   ],
   "source": [
    "dados['HORA_OCORRENCIA_BO'].info()"
   ]
  },
  {
   "cell_type": "code",
   "execution_count": 30,
   "metadata": {},
   "outputs": [
    {
     "data": {
      "text/html": [
       "<div>\n",
       "<style scoped>\n",
       "    .dataframe tbody tr th:only-of-type {\n",
       "        vertical-align: middle;\n",
       "    }\n",
       "\n",
       "    .dataframe tbody tr th {\n",
       "        vertical-align: top;\n",
       "    }\n",
       "\n",
       "    .dataframe thead th {\n",
       "        text-align: right;\n",
       "    }\n",
       "</style>\n",
       "<table border=\"1\" class=\"dataframe\">\n",
       "  <thead>\n",
       "    <tr style=\"text-align: right;\">\n",
       "      <th></th>\n",
       "      <th>NOME_DEPARTAMENTO</th>\n",
       "      <th>NOME_SECCIONAL</th>\n",
       "      <th>NOME_DELEGACIA</th>\n",
       "      <th>CIDADE</th>\n",
       "      <th>NUM_BO</th>\n",
       "      <th>ANO_BO</th>\n",
       "      <th>DATA_COMUNICACAO</th>\n",
       "      <th>DATA_OCORRENCIA_BO</th>\n",
       "      <th>HORA_OCORRENCIA_BO</th>\n",
       "      <th>DESC_PERIODO</th>\n",
       "      <th>DESCR_TIPOLOCAL</th>\n",
       "      <th>BAIRRO</th>\n",
       "      <th>LOGRADOURO</th>\n",
       "      <th>NUMERO_LOGRADOURO</th>\n",
       "      <th>LATITUDE</th>\n",
       "      <th>LONGITUDE</th>\n",
       "      <th>NOME_DELEGACIA_CIRCUNSCRIÇÃO</th>\n",
       "      <th>NOME_DEPARTAMENTO_CIRCUNSCRIÇÃO</th>\n",
       "      <th>NOME_SECCIONAL_CIRCUNSCRIÇÃO</th>\n",
       "      <th>NOME_MUNICIPIO_CIRCUNSCRIÇÃO</th>\n",
       "      <th>RUBRICA</th>\n",
       "      <th>DESCR_CONDUTA</th>\n",
       "      <th>NATUREZA_APURADA</th>\n",
       "      <th>MES_ESTATISTICA</th>\n",
       "      <th>ANO_ESTATISTICA</th>\n",
       "      <th>CAPITAL_OU_MUNICIPIO</th>\n",
       "      <th>DIA_DA_SEMANA</th>\n",
       "    </tr>\n",
       "  </thead>\n",
       "  <tbody>\n",
       "    <tr>\n",
       "      <th>0</th>\n",
       "      <td>DECAP</td>\n",
       "      <td>DEL.SEC.1º CENTRO</td>\n",
       "      <td>01ª DDM CENTRO</td>\n",
       "      <td>S.PAULO</td>\n",
       "      <td>AP5096</td>\n",
       "      <td>2023</td>\n",
       "      <td>2023-01-14</td>\n",
       "      <td>2023-01-12</td>\n",
       "      <td>21:00:19</td>\n",
       "      <td>NaN</td>\n",
       "      <td>Praça</td>\n",
       "      <td>SE</td>\n",
       "      <td>VEDAÇÃO DA DIVULGAÇÃO DOS DADOS RELATIVOS</td>\n",
       "      <td>0</td>\n",
       "      <td>0.0</td>\n",
       "      <td>0.000000</td>\n",
       "      <td>01º D.P. SE</td>\n",
       "      <td>DECAP</td>\n",
       "      <td>DEL.SEC.1º CENTRO</td>\n",
       "      <td>S.PAULO</td>\n",
       "      <td>Art. 213 - Estupro</td>\n",
       "      <td>NaN</td>\n",
       "      <td>Estupro</td>\n",
       "      <td>1</td>\n",
       "      <td>2023</td>\n",
       "      <td>CAPITAL</td>\n",
       "      <td>Quinta-feira</td>\n",
       "    </tr>\n",
       "    <tr>\n",
       "      <th>1</th>\n",
       "      <td>DECAP</td>\n",
       "      <td>DEL.SEC.1º CENTRO</td>\n",
       "      <td>01ª DDM CENTRO</td>\n",
       "      <td>S.PAULO</td>\n",
       "      <td>BD2233</td>\n",
       "      <td>2023</td>\n",
       "      <td>2023-01-25</td>\n",
       "      <td>2023-01-24</td>\n",
       "      <td>20:40:00</td>\n",
       "      <td>NaN</td>\n",
       "      <td>Apartamento</td>\n",
       "      <td>LUZ</td>\n",
       "      <td>VEDAÇÃO DA DIVULGAÇÃO DOS DADOS RELATIVOS</td>\n",
       "      <td>0</td>\n",
       "      <td>0.0</td>\n",
       "      <td>0.000000</td>\n",
       "      <td>01º D.P. SE</td>\n",
       "      <td>DECAP</td>\n",
       "      <td>DEL.SEC.1º CENTRO</td>\n",
       "      <td>S.PAULO</td>\n",
       "      <td>Art. 213 - Estupro</td>\n",
       "      <td>NaN</td>\n",
       "      <td>Estupro</td>\n",
       "      <td>1</td>\n",
       "      <td>2023</td>\n",
       "      <td>CAPITAL</td>\n",
       "      <td>Terça-feira</td>\n",
       "    </tr>\n",
       "    <tr>\n",
       "      <th>2</th>\n",
       "      <td>DIPOL - DEPTO DE INTELIGENCIA</td>\n",
       "      <td>DELEGACIA ELETRONICA</td>\n",
       "      <td>DELEGACIA ELETRONICA</td>\n",
       "      <td>S.PAULO</td>\n",
       "      <td>AA0063</td>\n",
       "      <td>2023</td>\n",
       "      <td>2022-12-31</td>\n",
       "      <td>2022-12-30</td>\n",
       "      <td>NaT</td>\n",
       "      <td>A noite</td>\n",
       "      <td>Via Pública</td>\n",
       "      <td>SÉ</td>\n",
       "      <td>PRAÇA DA SÉ</td>\n",
       "      <td>0</td>\n",
       "      <td>NaN</td>\n",
       "      <td>NaN</td>\n",
       "      <td>01º D.P. SE</td>\n",
       "      <td>DECAP</td>\n",
       "      <td>DEL.SEC.1º CENTRO</td>\n",
       "      <td>S.PAULO</td>\n",
       "      <td>Furto (art. 155)</td>\n",
       "      <td>Outros</td>\n",
       "      <td>Furto - outros</td>\n",
       "      <td>1</td>\n",
       "      <td>2023</td>\n",
       "      <td>CAPITAL</td>\n",
       "      <td>Sexta-feira</td>\n",
       "    </tr>\n",
       "    <tr>\n",
       "      <th>3</th>\n",
       "      <td>DIPOL - DEPTO DE INTELIGENCIA</td>\n",
       "      <td>DELEGACIA ELETRONICA</td>\n",
       "      <td>DELEGACIA ELETRONICA</td>\n",
       "      <td>S.PAULO</td>\n",
       "      <td>AA0404</td>\n",
       "      <td>2023</td>\n",
       "      <td>2022-12-31</td>\n",
       "      <td>2022-12-30</td>\n",
       "      <td>NaT</td>\n",
       "      <td>Pela manhã</td>\n",
       "      <td>Metroviário e Ferroviário Metropolitano</td>\n",
       "      <td>SE</td>\n",
       "      <td>RUA VINTE E CINCO DE MARCO</td>\n",
       "      <td>1215</td>\n",
       "      <td>-23.538994</td>\n",
       "      <td>-46.632093</td>\n",
       "      <td>01º D.P. SE</td>\n",
       "      <td>DECAP</td>\n",
       "      <td>DEL.SEC.1º CENTRO</td>\n",
       "      <td>S.PAULO</td>\n",
       "      <td>Furto (art. 155)</td>\n",
       "      <td>Outros</td>\n",
       "      <td>Furto - outros</td>\n",
       "      <td>1</td>\n",
       "      <td>2023</td>\n",
       "      <td>CAPITAL</td>\n",
       "      <td>Sexta-feira</td>\n",
       "    </tr>\n",
       "    <tr>\n",
       "      <th>4</th>\n",
       "      <td>DIPOL - DEPTO DE INTELIGENCIA</td>\n",
       "      <td>DELEGACIA ELETRONICA</td>\n",
       "      <td>DELEGACIA ELETRONICA</td>\n",
       "      <td>S.PAULO</td>\n",
       "      <td>AA0895</td>\n",
       "      <td>2023</td>\n",
       "      <td>2022-12-31</td>\n",
       "      <td>2022-12-30</td>\n",
       "      <td>NaT</td>\n",
       "      <td>A tarde</td>\n",
       "      <td>Via Pública</td>\n",
       "      <td>CENTRO HISTÓRICO DE SÃO PAULO</td>\n",
       "      <td>PRAÇA CÍVICA ULYSSES GUIMARÃES</td>\n",
       "      <td>9300</td>\n",
       "      <td>-23.545009</td>\n",
       "      <td>-46.626562</td>\n",
       "      <td>01º D.P. SE</td>\n",
       "      <td>DECAP</td>\n",
       "      <td>DEL.SEC.1º CENTRO</td>\n",
       "      <td>S.PAULO</td>\n",
       "      <td>Furto (art. 155)</td>\n",
       "      <td>Outros</td>\n",
       "      <td>Furto - outros</td>\n",
       "      <td>1</td>\n",
       "      <td>2023</td>\n",
       "      <td>CAPITAL</td>\n",
       "      <td>Sexta-feira</td>\n",
       "    </tr>\n",
       "  </tbody>\n",
       "</table>\n",
       "</div>"
      ],
      "text/plain": [
       "               NOME_DEPARTAMENTO        NOME_SECCIONAL        NOME_DELEGACIA  \\\n",
       "0                          DECAP     DEL.SEC.1º CENTRO        01ª DDM CENTRO   \n",
       "1                          DECAP     DEL.SEC.1º CENTRO        01ª DDM CENTRO   \n",
       "2  DIPOL - DEPTO DE INTELIGENCIA  DELEGACIA ELETRONICA  DELEGACIA ELETRONICA   \n",
       "3  DIPOL - DEPTO DE INTELIGENCIA  DELEGACIA ELETRONICA  DELEGACIA ELETRONICA   \n",
       "4  DIPOL - DEPTO DE INTELIGENCIA  DELEGACIA ELETRONICA  DELEGACIA ELETRONICA   \n",
       "\n",
       "    CIDADE  NUM_BO  ANO_BO DATA_COMUNICACAO DATA_OCORRENCIA_BO  \\\n",
       "0  S.PAULO  AP5096    2023       2023-01-14         2023-01-12   \n",
       "1  S.PAULO  BD2233    2023       2023-01-25         2023-01-24   \n",
       "2  S.PAULO  AA0063    2023       2022-12-31         2022-12-30   \n",
       "3  S.PAULO  AA0404    2023       2022-12-31         2022-12-30   \n",
       "4  S.PAULO  AA0895    2023       2022-12-31         2022-12-30   \n",
       "\n",
       "  HORA_OCORRENCIA_BO DESC_PERIODO                          DESCR_TIPOLOCAL  \\\n",
       "0           21:00:19          NaN                                    Praça   \n",
       "1           20:40:00          NaN                              Apartamento   \n",
       "2                NaT      A noite                              Via Pública   \n",
       "3                NaT   Pela manhã  Metroviário e Ferroviário Metropolitano   \n",
       "4                NaT      A tarde                              Via Pública   \n",
       "\n",
       "                          BAIRRO                                 LOGRADOURO  \\\n",
       "0                             SE  VEDAÇÃO DA DIVULGAÇÃO DOS DADOS RELATIVOS   \n",
       "1                            LUZ  VEDAÇÃO DA DIVULGAÇÃO DOS DADOS RELATIVOS   \n",
       "2                             SÉ                                PRAÇA DA SÉ   \n",
       "3                             SE                 RUA VINTE E CINCO DE MARCO   \n",
       "4  CENTRO HISTÓRICO DE SÃO PAULO             PRAÇA CÍVICA ULYSSES GUIMARÃES   \n",
       "\n",
       "   NUMERO_LOGRADOURO   LATITUDE  LONGITUDE NOME_DELEGACIA_CIRCUNSCRIÇÃO  \\\n",
       "0                  0        0.0   0.000000                  01º D.P. SE   \n",
       "1                  0        0.0   0.000000                  01º D.P. SE   \n",
       "2                  0        NaN        NaN                  01º D.P. SE   \n",
       "3               1215 -23.538994 -46.632093                  01º D.P. SE   \n",
       "4               9300 -23.545009 -46.626562                  01º D.P. SE   \n",
       "\n",
       "  NOME_DEPARTAMENTO_CIRCUNSCRIÇÃO NOME_SECCIONAL_CIRCUNSCRIÇÃO  \\\n",
       "0                           DECAP            DEL.SEC.1º CENTRO   \n",
       "1                           DECAP            DEL.SEC.1º CENTRO   \n",
       "2                           DECAP            DEL.SEC.1º CENTRO   \n",
       "3                           DECAP            DEL.SEC.1º CENTRO   \n",
       "4                           DECAP            DEL.SEC.1º CENTRO   \n",
       "\n",
       "  NOME_MUNICIPIO_CIRCUNSCRIÇÃO             RUBRICA DESCR_CONDUTA  \\\n",
       "0                      S.PAULO  Art. 213 - Estupro           NaN   \n",
       "1                      S.PAULO  Art. 213 - Estupro           NaN   \n",
       "2                      S.PAULO    Furto (art. 155)        Outros   \n",
       "3                      S.PAULO    Furto (art. 155)        Outros   \n",
       "4                      S.PAULO    Furto (art. 155)        Outros   \n",
       "\n",
       "  NATUREZA_APURADA  MES_ESTATISTICA  ANO_ESTATISTICA CAPITAL_OU_MUNICIPIO  \\\n",
       "0          Estupro                1             2023              CAPITAL   \n",
       "1          Estupro                1             2023              CAPITAL   \n",
       "2   Furto - outros                1             2023              CAPITAL   \n",
       "3   Furto - outros                1             2023              CAPITAL   \n",
       "4   Furto - outros                1             2023              CAPITAL   \n",
       "\n",
       "  DIA_DA_SEMANA  \n",
       "0  Quinta-feira  \n",
       "1   Terça-feira  \n",
       "2   Sexta-feira  \n",
       "3   Sexta-feira  \n",
       "4   Sexta-feira  "
      ]
     },
     "execution_count": 30,
     "metadata": {},
     "output_type": "execute_result"
    }
   ],
   "source": [
    "dados.head()"
   ]
  },
  {
   "cell_type": "code",
   "execution_count": 37,
   "metadata": {},
   "outputs": [
    {
     "data": {
      "text/plain": [
       "DESCR_TIPOLOCAL\n",
       "Via Pública                                1608476\n",
       "Casa                                        237748\n",
       "Outros                                       87070\n",
       "Metroviário e Ferroviário Metropolitano      61803\n",
       "Residência                                   33287\n",
       "Casas                                        16020\n",
       "Mercado                                      14220\n",
       "Transeunte                                   11047\n",
       "Lojas                                        11025\n",
       "Veículo em movimento                         10346\n",
       "Name: count, dtype: int64"
      ]
     },
     "execution_count": 37,
     "metadata": {},
     "output_type": "execute_result"
    }
   ],
   "source": [
    "dados['DESCR_TIPOLOCAL'].value_counts().head(10)"
   ]
  },
  {
   "cell_type": "code",
   "execution_count": 34,
   "metadata": {},
   "outputs": [
    {
     "data": {
      "text/plain": [
       "DESC_PERIODO\n",
       "A tarde            175206\n",
       "A noite            168732\n",
       "Pela manhã         158778\n",
       "De madrugada       139964\n",
       "Em hora incerta     81065\n",
       "Name: count, dtype: int64"
      ]
     },
     "execution_count": 34,
     "metadata": {},
     "output_type": "execute_result"
    }
   ],
   "source": [
    "dados['DESC_PERIODO'].value_counts().head(10)"
   ]
  },
  {
   "cell_type": "code",
   "execution_count": null,
   "metadata": {},
   "outputs": [],
   "source": []
  }
 ],
 "metadata": {
  "kernelspec": {
   "display_name": "base",
   "language": "python",
   "name": "python3"
  },
  "language_info": {
   "codemirror_mode": {
    "name": "ipython",
    "version": 3
   },
   "file_extension": ".py",
   "mimetype": "text/x-python",
   "name": "python",
   "nbconvert_exporter": "python",
   "pygments_lexer": "ipython3",
   "version": "3.12.7"
  }
 },
 "nbformat": 4,
 "nbformat_minor": 2
}
